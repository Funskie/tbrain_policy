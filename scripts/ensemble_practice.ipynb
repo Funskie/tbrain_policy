{
 "cells": [
  {
   "cell_type": "code",
   "execution_count": 1,
   "metadata": {
    "scrolled": false
   },
   "outputs": [
    {
     "name": "stderr",
     "output_type": "stream",
     "text": [
      "C:\\Users\\Asus\\Anaconda3\\envs\\AI\\lib\\site-packages\\h5py\\__init__.py:36: FutureWarning: Conversion of the second argument of issubdtype from `float` to `np.floating` is deprecated. In future, it will be treated as `np.float64 == np.dtype(float).type`.\n",
      "  from ._conv import register_converters as _register_converters\n",
      "Using TensorFlow backend.\n"
     ]
    }
   ],
   "source": [
    "import os\n",
    "import numpy as np\n",
    "import pandas as pd\n",
    "import seaborn as sns\n",
    "import matplotlib.pyplot as plt\n",
    "\n",
    "from sklearn.linear_model import LinearRegression, LassoCV, Ridge, LassoLarsCV,ElasticNetCV\n",
    "from sklearn.ensemble import RandomForestRegressor, AdaBoostRegressor, ExtraTreesRegressor, GradientBoostingRegressor\n",
    "from xgboost import XGBRegressor\n",
    "import xgboost as xgb\n",
    "import lightgbm as lgb\n",
    "\n",
    "from sklearn.model_selection import cross_val_score, train_test_split, KFold\n",
    "from sklearn.preprocessing import StandardScaler, Normalizer, RobustScaler\n",
    "from sklearn.metrics import mean_absolute_error\n",
    "\n",
    "import keras\n",
    "from keras.models import Sequential\n",
    "from keras.layers import Dense, BatchNormalization\n",
    "from keras.callbacks import EarlyStopping, ModelCheckpoint\n",
    "\n",
    "import warnings\n",
    "warnings.filterwarnings('ignore')"
   ]
  },
  {
   "cell_type": "code",
   "execution_count": 2,
   "metadata": {
    "scrolled": false
   },
   "outputs": [],
   "source": [
    "trainingset_path = '../dataset/training-set.csv'\n",
    "testingset_path = '../dataset/testing-set.csv'"
   ]
  },
  {
   "cell_type": "code",
   "execution_count": 3,
   "metadata": {
    "scrolled": false
   },
   "outputs": [],
   "source": [
    "train_claim_df = pd.read_csv('../dataset/train_claim_df_0912.csv', encoding='utf-8')\n",
    "test_claim_df = pd.read_csv('../dataset/test_claim_df_0912.csv', encoding='utf-8')\n",
    "trainingset_df = pd.read_csv(trainingset_path, encoding='utf-8')\n",
    "testingset_df = pd.read_csv(testingset_path, encoding='utf-8')"
   ]
  },
  {
   "cell_type": "code",
   "execution_count": 4,
   "metadata": {
    "scrolled": true
   },
   "outputs": [],
   "source": [
    "# train_0820 = pd.read_csv('../dataset/train_claim_df_0820.csv', encoding='utf-8')\n",
    "# test_0820 = pd.read_csv('../dataset/test_claim_df_0820.csv', encoding='utf-8')"
   ]
  },
  {
   "cell_type": "code",
   "execution_count": 5,
   "metadata": {
    "scrolled": true
   },
   "outputs": [],
   "source": [
    "# train_0820.Insured_Amount = train_claim_df.Insured_Amount\n",
    "# test_0820.Insured_Amount = test_claim_df.Insured_Amount"
   ]
  },
  {
   "cell_type": "code",
   "execution_count": 6,
   "metadata": {
    "scrolled": false
   },
   "outputs": [],
   "source": [
    "train_claim_data = train_claim_df.iloc[:, 2:]\n",
    "train_label = train_claim_df.iloc[:, 1]\n",
    "\n",
    "test_claim_data = test_claim_df.iloc[:, 2:]"
   ]
  },
  {
   "cell_type": "code",
   "execution_count": 7,
   "metadata": {
    "scrolled": false
   },
   "outputs": [
    {
     "data": {
      "text/plain": [
       "(210763,)"
      ]
     },
     "execution_count": 7,
     "metadata": {},
     "output_type": "execute_result"
    }
   ],
   "source": [
    "train_label.shape"
   ]
  },
  {
   "cell_type": "code",
   "execution_count": 8,
   "metadata": {
    "scrolled": false
   },
   "outputs": [
    {
     "data": {
      "text/plain": [
       "(140510, 90)"
      ]
     },
     "execution_count": 8,
     "metadata": {},
     "output_type": "execute_result"
    }
   ],
   "source": [
    "test_claim_data.shape"
   ]
  },
  {
   "cell_type": "code",
   "execution_count": 9,
   "metadata": {
    "scrolled": true
   },
   "outputs": [
    {
     "data": {
      "text/html": [
       "<div>\n",
       "<style scoped>\n",
       "    .dataframe tbody tr th:only-of-type {\n",
       "        vertical-align: middle;\n",
       "    }\n",
       "\n",
       "    .dataframe tbody tr th {\n",
       "        vertical-align: top;\n",
       "    }\n",
       "\n",
       "    .dataframe thead th {\n",
       "        text-align: right;\n",
       "    }\n",
       "</style>\n",
       "<table border=\"1\" class=\"dataframe\">\n",
       "  <thead>\n",
       "    <tr style=\"text-align: right;\">\n",
       "      <th></th>\n",
       "      <th>Cancellation</th>\n",
       "      <th>Manafactured_Year_and_Month</th>\n",
       "      <th>Engine_Displacement_(Cubic_Centimeter)</th>\n",
       "      <th>Imported_or_Domestic_Car</th>\n",
       "      <th>qpt</th>\n",
       "      <th>car_steal</th>\n",
       "      <th>car_damage</th>\n",
       "      <th>car_duty</th>\n",
       "      <th>Insured_Amount1</th>\n",
       "      <th>Insured_Amount2</th>\n",
       "      <th>...</th>\n",
       "      <th>Cause_14</th>\n",
       "      <th>Cause_15</th>\n",
       "      <th>Cause_16</th>\n",
       "      <th>Cause_17</th>\n",
       "      <th>Paid_Loss_Amount</th>\n",
       "      <th>paid_Expenses_Amount</th>\n",
       "      <th>Salvage_or_Subrogation?</th>\n",
       "      <th>At_Fault?</th>\n",
       "      <th>Deductible</th>\n",
       "      <th>number_of_claimants</th>\n",
       "    </tr>\n",
       "  </thead>\n",
       "  <tbody>\n",
       "    <tr>\n",
       "      <th>0</th>\n",
       "      <td>1</td>\n",
       "      <td>14.201549</td>\n",
       "      <td>13.852675</td>\n",
       "      <td>0</td>\n",
       "      <td>2.055642</td>\n",
       "      <td>0</td>\n",
       "      <td>0</td>\n",
       "      <td>4</td>\n",
       "      <td>55.775354</td>\n",
       "      <td>60.747979</td>\n",
       "      <td>...</td>\n",
       "      <td>0.0</td>\n",
       "      <td>0.0</td>\n",
       "      <td>0.0</td>\n",
       "      <td>0.0</td>\n",
       "      <td>0.0</td>\n",
       "      <td>0.0</td>\n",
       "      <td>0.0</td>\n",
       "      <td>0.0</td>\n",
       "      <td>0.0</td>\n",
       "      <td>0.0</td>\n",
       "    </tr>\n",
       "    <tr>\n",
       "      <th>1</th>\n",
       "      <td>0</td>\n",
       "      <td>14.196881</td>\n",
       "      <td>13.850963</td>\n",
       "      <td>0</td>\n",
       "      <td>2.055642</td>\n",
       "      <td>2</td>\n",
       "      <td>5</td>\n",
       "      <td>5</td>\n",
       "      <td>61.194559</td>\n",
       "      <td>30.822811</td>\n",
       "      <td>...</td>\n",
       "      <td>0.0</td>\n",
       "      <td>0.0</td>\n",
       "      <td>0.0</td>\n",
       "      <td>0.0</td>\n",
       "      <td>0.0</td>\n",
       "      <td>0.0</td>\n",
       "      <td>0.0</td>\n",
       "      <td>0.0</td>\n",
       "      <td>0.0</td>\n",
       "      <td>0.0</td>\n",
       "    </tr>\n",
       "    <tr>\n",
       "      <th>2</th>\n",
       "      <td>0</td>\n",
       "      <td>14.199993</td>\n",
       "      <td>13.493124</td>\n",
       "      <td>0</td>\n",
       "      <td>2.055642</td>\n",
       "      <td>1</td>\n",
       "      <td>4</td>\n",
       "      <td>5</td>\n",
       "      <td>55.837620</td>\n",
       "      <td>52.522424</td>\n",
       "      <td>...</td>\n",
       "      <td>0.0</td>\n",
       "      <td>0.0</td>\n",
       "      <td>0.0</td>\n",
       "      <td>0.0</td>\n",
       "      <td>0.0</td>\n",
       "      <td>0.0</td>\n",
       "      <td>0.0</td>\n",
       "      <td>0.0</td>\n",
       "      <td>0.0</td>\n",
       "      <td>0.0</td>\n",
       "    </tr>\n",
       "    <tr>\n",
       "      <th>3</th>\n",
       "      <td>0</td>\n",
       "      <td>14.201549</td>\n",
       "      <td>14.181278</td>\n",
       "      <td>0</td>\n",
       "      <td>2.440268</td>\n",
       "      <td>2</td>\n",
       "      <td>6</td>\n",
       "      <td>7</td>\n",
       "      <td>68.162585</td>\n",
       "      <td>65.739929</td>\n",
       "      <td>...</td>\n",
       "      <td>0.0</td>\n",
       "      <td>0.0</td>\n",
       "      <td>0.0</td>\n",
       "      <td>0.0</td>\n",
       "      <td>0.0</td>\n",
       "      <td>0.0</td>\n",
       "      <td>0.0</td>\n",
       "      <td>0.0</td>\n",
       "      <td>0.0</td>\n",
       "      <td>0.0</td>\n",
       "    </tr>\n",
       "    <tr>\n",
       "      <th>4</th>\n",
       "      <td>0</td>\n",
       "      <td>14.190647</td>\n",
       "      <td>13.849251</td>\n",
       "      <td>1</td>\n",
       "      <td>2.055642</td>\n",
       "      <td>0</td>\n",
       "      <td>1</td>\n",
       "      <td>0</td>\n",
       "      <td>0.000000</td>\n",
       "      <td>0.000000</td>\n",
       "      <td>...</td>\n",
       "      <td>0.0</td>\n",
       "      <td>0.0</td>\n",
       "      <td>0.0</td>\n",
       "      <td>0.0</td>\n",
       "      <td>0.0</td>\n",
       "      <td>0.0</td>\n",
       "      <td>0.0</td>\n",
       "      <td>0.0</td>\n",
       "      <td>0.0</td>\n",
       "      <td>0.0</td>\n",
       "    </tr>\n",
       "  </tbody>\n",
       "</table>\n",
       "<p>5 rows × 90 columns</p>\n",
       "</div>"
      ],
      "text/plain": [
       "   Cancellation  Manafactured_Year_and_Month  \\\n",
       "0             1                    14.201549   \n",
       "1             0                    14.196881   \n",
       "2             0                    14.199993   \n",
       "3             0                    14.201549   \n",
       "4             0                    14.190647   \n",
       "\n",
       "   Engine_Displacement_(Cubic_Centimeter)  Imported_or_Domestic_Car       qpt  \\\n",
       "0                               13.852675                         0  2.055642   \n",
       "1                               13.850963                         0  2.055642   \n",
       "2                               13.493124                         0  2.055642   \n",
       "3                               14.181278                         0  2.440268   \n",
       "4                               13.849251                         1  2.055642   \n",
       "\n",
       "   car_steal  car_damage  car_duty  Insured_Amount1  Insured_Amount2  \\\n",
       "0          0           0         4        55.775354        60.747979   \n",
       "1          2           5         5        61.194559        30.822811   \n",
       "2          1           4         5        55.837620        52.522424   \n",
       "3          2           6         7        68.162585        65.739929   \n",
       "4          0           1         0         0.000000         0.000000   \n",
       "\n",
       "          ...           Cause_14  Cause_15  Cause_16  Cause_17  \\\n",
       "0         ...                0.0       0.0       0.0       0.0   \n",
       "1         ...                0.0       0.0       0.0       0.0   \n",
       "2         ...                0.0       0.0       0.0       0.0   \n",
       "3         ...                0.0       0.0       0.0       0.0   \n",
       "4         ...                0.0       0.0       0.0       0.0   \n",
       "\n",
       "   Paid_Loss_Amount  paid_Expenses_Amount  Salvage_or_Subrogation?  At_Fault?  \\\n",
       "0               0.0                   0.0                      0.0        0.0   \n",
       "1               0.0                   0.0                      0.0        0.0   \n",
       "2               0.0                   0.0                      0.0        0.0   \n",
       "3               0.0                   0.0                      0.0        0.0   \n",
       "4               0.0                   0.0                      0.0        0.0   \n",
       "\n",
       "   Deductible  number_of_claimants  \n",
       "0         0.0                  0.0  \n",
       "1         0.0                  0.0  \n",
       "2         0.0                  0.0  \n",
       "3         0.0                  0.0  \n",
       "4         0.0                  0.0  \n",
       "\n",
       "[5 rows x 90 columns]"
      ]
     },
     "execution_count": 9,
     "metadata": {},
     "output_type": "execute_result"
    }
   ],
   "source": [
    "all_data = pd.concat([train_claim_data, test_claim_data], axis=0)\n",
    "all_data.head()"
   ]
  },
  {
   "cell_type": "code",
   "execution_count": 10,
   "metadata": {
    "scrolled": true
   },
   "outputs": [
    {
     "data": {
      "text/plain": [
       "(351273, 90)"
      ]
     },
     "execution_count": 10,
     "metadata": {},
     "output_type": "execute_result"
    }
   ],
   "source": [
    "all_data.shape"
   ]
  },
  {
   "cell_type": "code",
   "execution_count": 11,
   "metadata": {
    "scrolled": false
   },
   "outputs": [],
   "source": [
    "ss_x = StandardScaler()\n",
    "ss_x.fit(all_data)\n",
    "x_train = ss_x.transform(train_claim_data)\n",
    "test = ss_x.transform(test_claim_data)"
   ]
  },
  {
   "cell_type": "code",
   "execution_count": 12,
   "metadata": {
    "scrolled": false
   },
   "outputs": [],
   "source": [
    "from scipy.special import boxcox1p, inv_boxcox1p\n",
    "lam = 0.15\n",
    "cox_train = boxcox1p(train_label, lam)"
   ]
  },
  {
   "cell_type": "code",
   "execution_count": 14,
   "metadata": {
    "scrolled": false
   },
   "outputs": [],
   "source": [
    "ss_y = StandardScaler()\n",
    "ss_y.fit(cox_train.reshape(-1, 1))\n",
    "y_train = ss_y.transform(cox_train.reshape(-1, 1))"
   ]
  },
  {
   "cell_type": "code",
   "execution_count": 15,
   "metadata": {
    "scrolled": false
   },
   "outputs": [],
   "source": [
    "x_train, x_ensem, y_train, y_ensem = train_test_split(x_train, y_train, test_size=0.2, random_state=7, shuffle=True)"
   ]
  },
  {
   "cell_type": "code",
   "execution_count": 16,
   "metadata": {
    "scrolled": false
   },
   "outputs": [],
   "source": [
    "def MAE(estimator, x, y, cv=5, n_jobs=4):\n",
    "    cv_results = cross_val_score(estimator, x, y, cv=cv, scoring='neg_mean_absolute_error', n_jobs=n_jobs, verbose=1)\n",
    "    return (-cv_results).mean()"
   ]
  },
  {
   "cell_type": "markdown",
   "metadata": {},
   "source": [
    "### regression"
   ]
  },
  {
   "cell_type": "code",
   "execution_count": 17,
   "metadata": {
    "scrolled": false
   },
   "outputs": [],
   "source": [
    "lassocv = LassoCV() \n",
    "ridge = Ridge() \n",
    "lassolarscv = LassoLarsCV()\n",
    "elasticnetcv = ElasticNetCV()"
   ]
  },
  {
   "cell_type": "code",
   "execution_count": 18,
   "metadata": {
    "scrolled": false
   },
   "outputs": [
    {
     "name": "stderr",
     "output_type": "stream",
     "text": [
      "[Parallel(n_jobs=4)]: Done   5 out of   5 | elapsed:   59.2s finished\n"
     ]
    },
    {
     "data": {
      "text/plain": [
       "0.6370813916373851"
      ]
     },
     "execution_count": 18,
     "metadata": {},
     "output_type": "execute_result"
    }
   ],
   "source": [
    "MAE(lassocv, x_train, y_train)"
   ]
  },
  {
   "cell_type": "code",
   "execution_count": 19,
   "metadata": {
    "scrolled": false
   },
   "outputs": [
    {
     "name": "stderr",
     "output_type": "stream",
     "text": [
      "[Parallel(n_jobs=4)]: Done   5 out of   5 | elapsed:    1.7s finished\n"
     ]
    },
    {
     "data": {
      "text/plain": [
       "0.6358917572516065"
      ]
     },
     "execution_count": 19,
     "metadata": {},
     "output_type": "execute_result"
    }
   ],
   "source": [
    "MAE(ridge, x_train, y_train)"
   ]
  },
  {
   "cell_type": "code",
   "execution_count": 20,
   "metadata": {
    "scrolled": false
   },
   "outputs": [
    {
     "name": "stderr",
     "output_type": "stream",
     "text": [
      "[Parallel(n_jobs=4)]: Done   5 out of   5 | elapsed:    8.7s finished\n"
     ]
    },
    {
     "data": {
      "text/plain": [
       "0.6497453576768745"
      ]
     },
     "execution_count": 20,
     "metadata": {},
     "output_type": "execute_result"
    }
   ],
   "source": [
    "MAE(lassolarscv, x_train, y_train)"
   ]
  },
  {
   "cell_type": "code",
   "execution_count": 21,
   "metadata": {
    "scrolled": false
   },
   "outputs": [
    {
     "name": "stderr",
     "output_type": "stream",
     "text": [
      "[Parallel(n_jobs=4)]: Done   5 out of   5 | elapsed:  1.1min finished\n"
     ]
    },
    {
     "data": {
      "text/plain": [
       "0.6373078746895647"
      ]
     },
     "execution_count": 21,
     "metadata": {},
     "output_type": "execute_result"
    }
   ],
   "source": [
    "MAE(elasticnetcv, x_train, y_train)"
   ]
  },
  {
   "cell_type": "code",
   "execution_count": 22,
   "metadata": {
    "scrolled": false
   },
   "outputs": [
    {
     "data": {
      "text/plain": [
       "ElasticNetCV(alphas=None, copy_X=True, cv=None, eps=0.001, fit_intercept=True,\n",
       "       l1_ratio=0.5, max_iter=1000, n_alphas=100, n_jobs=1,\n",
       "       normalize=False, positive=False, precompute='auto',\n",
       "       random_state=None, selection='cyclic', tol=0.0001, verbose=0)"
      ]
     },
     "execution_count": 22,
     "metadata": {},
     "output_type": "execute_result"
    }
   ],
   "source": [
    "lassocv.fit(x_train,y_train)\n",
    "ridge.fit(x_train,y_train)\n",
    "lassolarscv.fit(x_train,y_train)\n",
    "elasticnetcv.fit(x_train,y_train)"
   ]
  },
  {
   "cell_type": "code",
   "execution_count": 23,
   "metadata": {
    "scrolled": false
   },
   "outputs": [],
   "source": [
    "features = train_claim_data.columns"
   ]
  },
  {
   "cell_type": "code",
   "execution_count": 24,
   "metadata": {
    "scrolled": false
   },
   "outputs": [],
   "source": [
    "lassocv_coef = lassocv.coef_\n",
    "ridge_coef = ridge.coef_\n",
    "lassolarscv_coef = lassolarscv.coef_\n",
    "elasticnetcv_coef = elasticnetcv.coef_"
   ]
  },
  {
   "cell_type": "code",
   "execution_count": 25,
   "metadata": {
    "scrolled": false
   },
   "outputs": [
    {
     "name": "stdout",
     "output_type": "stream",
     "text": [
      "LassoCV regression has conserved 66 features over 90\n",
      "Ridge regression has conserved 90 features over 90\n",
      "LassoLarsCV regression has conserved 31 features over 90\n",
      "ElasticNetCV regression has conserved 68 features over 90\n"
     ]
    }
   ],
   "source": [
    "print(\"LassoCV regression has conserved %d features over %d\"%(len(features[lassocv_coef!=0]),x_train.shape[1]))\n",
    "print(\"Ridge regression has conserved %d features over %d\"%(len(features[ridge_coef[0]!=0]),x_train.shape[1]))\n",
    "print(\"LassoLarsCV regression has conserved %d features over %d\"%(len(features[lassolarscv_coef!=0]) ,x_train.shape[1]))\n",
    "print(\"ElasticNetCV regression has conserved %d features over %d\"%(len(features[elasticnetcv_coef!=0]),x_train.shape[1]))"
   ]
  },
  {
   "cell_type": "code",
   "execution_count": 26,
   "metadata": {
    "scrolled": false
   },
   "outputs": [
    {
     "data": {
      "image/png": "[encoded data removed]",
      "text/plain": [
       "<Figure size 1080x1080 with 4 Axes>"
      ]
     },
     "metadata": {},
     "output_type": "display_data"
    },
    {
     "data": {
      "text/plain": [
       "<Figure size 432x288 with 0 Axes>"
      ]
     },
     "metadata": {},
     "output_type": "display_data"
    }
   ],
   "source": [
    "nrows = ncols = 2\n",
    "fig, axes = plt.subplots(nrows = nrows, ncols = ncols, sharex=\"all\", figsize=(15,15))\n",
    "\n",
    "# names_regressors = [(\"LassoCV\", lassocv, lassocv_coef),(\"Ridge\",ridge, ridge_coef[0]),\n",
    "#                     (\"LassolarsCV\",lassolarscv, lassolarscv_coef),(\"ElasticNetCV\",elasticnetcv, elasticnetcv_coef)]\n",
    "names_regressors = [(\"LassoCV\", lassocv, lassocv_coef),\n",
    "                    (\"LassolarsCV\",lassolarscv, lassolarscv_coef),(\"ElasticNetCV\",elasticnetcv, elasticnetcv_coef)]\n",
    "\n",
    "nregressors = 0\n",
    "for row in range(nrows):\n",
    "    for col in range(ncols):\n",
    "        if nregressors == 3:\n",
    "            break\n",
    "        name = names_regressors[nregressors][0]\n",
    "        regressor = names_regressors[nregressors][1]\n",
    "        indices = np.argsort(names_regressors[nregressors][2])[::-1][:20]\n",
    "        g = sns.barplot(y=features[indices][:20],x = names_regressors[nregressors][2][indices] , orient='h',ax=axes[row][col])\n",
    "        g.set_xlabel(\"Coefficient\",fontsize=12)\n",
    "        g.set_ylabel(\"Features\",fontsize=12)\n",
    "        g.tick_params(labelsize=9)\n",
    "        g.set_title(name + \" regression coefs\")\n",
    "        nregressors += 1\n",
    "plt.tight_layout()\n",
    "plt.show()\n",
    "plt.gcf().clear()"
   ]
  },
  {
   "cell_type": "code",
   "execution_count": 167,
   "metadata": {
    "scrolled": false
   },
   "outputs": [],
   "source": [
    "# mae_lassocv = mean_absolute_error(lassocv.predict(x_val), y_val)\n",
    "# mae_ridge = mean_absolute_error(ridge.predict(x_val), y_val)\n",
    "# mae_lassolarscv = mean_absolute_error(lassolarscv.predict(x_val), y_val)\n",
    "# mae_elasticnetcv = mean_absolute_error(elasticnetcv.predict(x_val), y_val)"
   ]
  },
  {
   "cell_type": "code",
   "execution_count": 168,
   "metadata": {
    "scrolled": false
   },
   "outputs": [],
   "source": [
    "# print('mae_lassocv: ' + str(mae_lassocv))\n",
    "# print('mae_ridge: ' + str(mae_ridge))\n",
    "# print('mae_lassolarscv: ' + str(mae_lassolarscv))\n",
    "# print('mae_elasticnetcv: ' + str(mae_elasticnetcv))"
   ]
  },
  {
   "cell_type": "markdown",
   "metadata": {},
   "source": [
    "### tree type model"
   ]
  },
  {
   "cell_type": "code",
   "execution_count": 169,
   "metadata": {},
   "outputs": [],
   "source": [
    "RF = RandomForestRegressor(n_estimators=1000, max_depth=7, random_state =5)"
   ]
  },
  {
   "cell_type": "code",
   "execution_count": 170,
   "metadata": {},
   "outputs": [
    {
     "name": "stderr",
     "output_type": "stream",
     "text": [
      "[Parallel(n_jobs=4)]: Done   5 out of   5 | elapsed: 34.7min finished\n"
     ]
    },
    {
     "data": {
      "text/plain": [
       "0.27814045358735556"
      ]
     },
     "execution_count": 170,
     "metadata": {},
     "output_type": "execute_result"
    }
   ],
   "source": [
    "MAE(RF, x_train, y_train)"
   ]
  },
  {
   "cell_type": "code",
   "execution_count": 171,
   "metadata": {},
   "outputs": [
    {
     "data": {
      "text/plain": [
       "RandomForestRegressor(bootstrap=True, criterion='mse', max_depth=7,\n",
       "           max_features='auto', max_leaf_nodes=None,\n",
       "           min_impurity_decrease=0.0, min_impurity_split=None,\n",
       "           min_samples_leaf=1, min_samples_split=2,\n",
       "           min_weight_fraction_leaf=0.0, n_estimators=1000, n_jobs=1,\n",
       "           oob_score=False, random_state=5, verbose=0, warm_start=False)"
      ]
     },
     "execution_count": 171,
     "metadata": {},
     "output_type": "execute_result"
    }
   ],
   "source": [
    "RF.fit(x_train,y_train)"
   ]
  },
  {
   "cell_type": "code",
   "execution_count": 172,
   "metadata": {
    "scrolled": false
   },
   "outputs": [],
   "source": [
    "xgb_param = {\n",
    "    'n_estimators': 2402,\n",
    "    'learning_rate': 0.01,\n",
    "    'objective': 'reg:linear',\n",
    "    'subsample': 0.9,#checked\n",
    "    'colsample_bytree': 0.9,#checked\n",
    "    'min_child_weight': 1,#checked\n",
    "    'max_depth': 9,#checked\n",
    "    'gamma': 0.0,#checked  \n",
    "    'scale_pos_weight': 1,\n",
    "    'reg_alpha': 0.01,\n",
    "    'reg_lambda': 0.1,\n",
    "}\n",
    "xgb_model = XGBRegressor(**xgb_param)"
   ]
  },
  {
   "cell_type": "code",
   "execution_count": 173,
   "metadata": {
    "scrolled": false
   },
   "outputs": [
    {
     "name": "stderr",
     "output_type": "stream",
     "text": [
      "[Parallel(n_jobs=4)]: Done   5 out of   5 | elapsed: 48.0min finished\n"
     ]
    },
    {
     "data": {
      "text/plain": [
       "0.2733412585221072"
      ]
     },
     "execution_count": 173,
     "metadata": {},
     "output_type": "execute_result"
    }
   ],
   "source": [
    "MAE(xgb_model, x_train, y_train)"
   ]
  },
  {
   "cell_type": "code",
   "execution_count": 174,
   "metadata": {
    "scrolled": false
   },
   "outputs": [
    {
     "name": "stdout",
     "output_type": "stream",
     "text": [
      "Training...\n"
     ]
    },
    {
     "data": {
      "text/plain": [
       "XGBRegressor(base_score=0.5, booster='gbtree', colsample_bylevel=1,\n",
       "       colsample_bytree=0.9, gamma=0.0, learning_rate=0.01,\n",
       "       max_delta_step=0, max_depth=9, min_child_weight=1, missing=None,\n",
       "       n_estimators=2402, n_jobs=1, nthread=None, objective='reg:linear',\n",
       "       random_state=0, reg_alpha=0.01, reg_lambda=0.1, scale_pos_weight=1,\n",
       "       seed=None, silent=True, subsample=0.9)"
      ]
     },
     "execution_count": 174,
     "metadata": {},
     "output_type": "execute_result"
    }
   ],
   "source": [
    "print('Training...')\n",
    "xgb_model.fit(x_train, y_train)"
   ]
  },
  {
   "cell_type": "code",
   "execution_count": 175,
   "metadata": {
    "scrolled": false
   },
   "outputs": [],
   "source": [
    "GBoost = GradientBoostingRegressor(n_estimators=1000, learning_rate=0.01,\n",
    "                                   max_depth=10, max_features='sqrt',\n",
    "                                   min_samples_leaf=15, min_samples_split=10, \n",
    "                                   loss='huber', random_state =5)"
   ]
  },
  {
   "cell_type": "code",
   "execution_count": 176,
   "metadata": {
    "scrolled": false
   },
   "outputs": [
    {
     "name": "stderr",
     "output_type": "stream",
     "text": [
      "[Parallel(n_jobs=4)]: Done   5 out of   5 | elapsed: 26.3min finished\n"
     ]
    },
    {
     "data": {
      "text/plain": [
       "0.2644652529357276"
      ]
     },
     "execution_count": 176,
     "metadata": {},
     "output_type": "execute_result"
    }
   ],
   "source": [
    "MAE(GBoost, x_train, y_train)"
   ]
  },
  {
   "cell_type": "code",
   "execution_count": 177,
   "metadata": {
    "scrolled": false
   },
   "outputs": [
    {
     "data": {
      "text/plain": [
       "GradientBoostingRegressor(alpha=0.9, criterion='friedman_mse', init=None,\n",
       "             learning_rate=0.01, loss='huber', max_depth=10,\n",
       "             max_features='sqrt', max_leaf_nodes=None,\n",
       "             min_impurity_decrease=0.0, min_impurity_split=None,\n",
       "             min_samples_leaf=15, min_samples_split=10,\n",
       "             min_weight_fraction_leaf=0.0, n_estimators=1000,\n",
       "             presort='auto', random_state=5, subsample=1.0, verbose=0,\n",
       "             warm_start=False)"
      ]
     },
     "execution_count": 177,
     "metadata": {},
     "output_type": "execute_result"
    }
   ],
   "source": [
    "GBoost.fit(x_train,y_train)"
   ]
  },
  {
   "cell_type": "code",
   "execution_count": 27,
   "metadata": {
    "scrolled": false
   },
   "outputs": [],
   "source": [
    "LightGB = lgb.LGBMRegressor(objective='regression_l1',num_leaves=80, min_child_samples=22, min_child_weight=0.001, \n",
    "                                   bagging_fraction=0.6, feature_fraction=0.9, \n",
    "                                   learning_rate=0.01, n_estimators=3216, max_depth=10, reg_alpha=0.3, reg_lambda=0.08,\n",
    "                                   metric='mae',subsample=0.8, colsample_bytree=0.8, )"
   ]
  },
  {
   "cell_type": "code",
   "execution_count": 28,
   "metadata": {
    "scrolled": false
   },
   "outputs": [
    {
     "name": "stderr",
     "output_type": "stream",
     "text": [
      "[Parallel(n_jobs=4)]: Done   5 out of   5 | elapsed:  7.8min finished\n"
     ]
    },
    {
     "data": {
      "text/plain": [
       "0.43663411317244877"
      ]
     },
     "execution_count": 28,
     "metadata": {},
     "output_type": "execute_result"
    }
   ],
   "source": [
    "MAE(LightGB, x_train, y_train)"
   ]
  },
  {
   "cell_type": "code",
   "execution_count": 29,
   "metadata": {
    "scrolled": false
   },
   "outputs": [
    {
     "data": {
      "text/plain": [
       "LGBMRegressor(bagging_fraction=0.6, boosting_type='gbdt', class_weight=None,\n",
       "       colsample_bytree=0.8, feature_fraction=0.9, learning_rate=0.01,\n",
       "       max_depth=10, metric='mae', min_child_samples=22,\n",
       "       min_child_weight=0.001, min_split_gain=0.0, n_estimators=3216,\n",
       "       n_jobs=-1, num_leaves=80, objective='regression_l1',\n",
       "       random_state=None, reg_alpha=0.3, reg_lambda=0.08, silent=True,\n",
       "       subsample=0.8, subsample_for_bin=200000, subsample_freq=0)"
      ]
     },
     "execution_count": 29,
     "metadata": {},
     "output_type": "execute_result"
    }
   ],
   "source": [
    "LightGB.fit(x_train,y_train)\n",
    "# mae_LightGB = mean_absolute_error(LightGB.predict(x_val), y_val)"
   ]
  },
  {
   "cell_type": "code",
   "execution_count": 187,
   "metadata": {
    "scrolled": false
   },
   "outputs": [
    {
     "data": {
      "image/png": "[encoded data removed]",
      "text/plain": [
       "<Figure size 1080x1080 with 4 Axes>"
      ]
     },
     "metadata": {},
     "output_type": "display_data"
    },
    {
     "data": {
      "text/plain": [
       "<Figure size 432x288 with 0 Axes>"
      ]
     },
     "metadata": {},
     "output_type": "display_data"
    }
   ],
   "source": [
    "nrows = 2\n",
    "ncols = 2\n",
    "fig, axes = plt.subplots(nrows = nrows, ncols = ncols, figsize=(15,15))\n",
    "\n",
    "names_regressors = [(\"Xgboost\", xgb_model), (\"LightGBM\",LightGB), (\"GBoosting\",GBoost), ('RF', RF)]\n",
    "\n",
    "nregressors = 0\n",
    "for row in range(nrows):\n",
    "    for col in range(ncols):\n",
    "        name = names_regressors[nregressors][0]\n",
    "        regressor = names_regressors[nregressors][1]\n",
    "        indices = np.argsort(regressor.feature_importances_)[::-1][:20]\n",
    "        g = sns.barplot(y=features[indices][:20],x = regressor.feature_importances_[indices][:20] , orient='h',ax=axes[row][col])\n",
    "        g.set_xlabel(\"Relative importance\",fontsize=12)\n",
    "        g.set_ylabel(\"Features\",fontsize=12)\n",
    "        g.tick_params(labelsize=9)\n",
    "        g.set_title(name + \" feature importance\")\n",
    "        nregressors += 1\n",
    "\n",
    "plt.tight_layout()\n",
    "plt.show()\n",
    "plt.gcf().clear()"
   ]
  },
  {
   "cell_type": "markdown",
   "metadata": {},
   "source": [
    "### DNN"
   ]
  },
  {
   "cell_type": "code",
   "execution_count": 188,
   "metadata": {
    "scrolled": false
   },
   "outputs": [],
   "source": [
    "import time\n",
    "#setting the checkpoint dir and checkpoint model name\n",
    "parent_path = os.path.abspath(\"..\")\n",
    "save_dir = os.path.join(parent_path, 'checkpoints/')\n",
    "model_name = time.strftime('%m%d_%H_%M_%S.h5')"
   ]
  },
  {
   "cell_type": "code",
   "execution_count": 189,
   "metadata": {
    "scrolled": false
   },
   "outputs": [],
   "source": [
    "x_train_cl, x_val_cl, y_train_cl, y_val_cl = train_test_split(x_train, y_train, test_size=0.2, random_state=7, shuffle=True)\n",
    "# x_train_po, x_val_po, y_train_po, y_val_po = train_test_split(x_train_po, y_train, test_size=0.2, random_state=7, shuffle=True)"
   ]
  },
  {
   "cell_type": "code",
   "execution_count": 192,
   "metadata": {
    "scrolled": false
   },
   "outputs": [],
   "source": [
    "nn_model = Sequential()\n",
    "# nn_model.add(Dense(100, input_dim=41, kernel_initializer='normal', activation='relu'))\n",
    "# # nn_model.add(Dense(64, kernel_initializer='normal', activation='relu'))\n",
    "# nn_model.add(Dense(1, kernel_initializer='normal'))\n",
    "nn_model.add(Dense(20, input_dim=78, kernel_initializer='normal', activation='relu'))\n",
    "nn_model.add(BatchNormalization())\n",
    "nn_model.add(Dense(16, kernel_initializer='normal', activation='relu'))\n",
    "nn_model.add(BatchNormalization())\n",
    "nn_model.add(Dense(1, kernel_initializer='normal'))\n",
    "# Compile model\n",
    "opt = keras.optimizers.Adam(lr=0.001)\n",
    "nn_model.compile(loss='mean_absolute_error', optimizer=opt, metrics=['mae'])"
   ]
  },
  {
   "cell_type": "code",
   "execution_count": 193,
   "metadata": {
    "scrolled": true
   },
   "outputs": [
    {
     "name": "stdout",
     "output_type": "stream",
     "text": [
      "Train on 134888 samples, validate on 33722 samples\n",
      "Epoch 1/250\n",
      "134888/134888 [==============================] - 8s 59us/step - loss: 0.3645 - mean_absolute_error: 0.3645 - val_loss: 0.3371 - val_mean_absolute_error: 0.3371\n",
      "\n",
      "Epoch 00001: val_loss improved from inf to 0.33710, saving model to D:\\fang\\AI_proj\\tbrain_policy\\checkpoints/0906_16_30_00.h5\n",
      "Epoch 2/250\n",
      "134888/134888 [==============================] - 2s 11us/step - loss: 0.2916 - mean_absolute_error: 0.2916 - val_loss: 0.2851 - val_mean_absolute_error: 0.2851\n",
      "\n",
      "Epoch 00002: val_loss improved from 0.33710 to 0.28512, saving model to D:\\fang\\AI_proj\\tbrain_policy\\checkpoints/0906_16_30_00.h5\n",
      "Epoch 3/250\n",
      "134888/134888 [==============================] - 1s 11us/step - loss: 0.2774 - mean_absolute_error: 0.2774 - val_loss: 0.2763 - val_mean_absolute_error: 0.2763\n",
      "\n",
      "Epoch 00003: val_loss improved from 0.28512 to 0.27632, saving model to D:\\fang\\AI_proj\\tbrain_policy\\checkpoints/0906_16_30_00.h5\n",
      "Epoch 4/250\n",
      "134888/134888 [==============================] - 1s 11us/step - loss: 0.2702 - mean_absolute_error: 0.2702 - val_loss: 0.2853 - val_mean_absolute_error: 0.2853\n",
      "\n",
      "Epoch 00004: val_loss did not improve\n",
      "Epoch 5/250\n",
      "134888/134888 [==============================] - 2s 11us/step - loss: 0.2630 - mean_absolute_error: 0.2630 - val_loss: 0.2748 - val_mean_absolute_error: 0.2748\n",
      "\n",
      "Epoch 00005: val_loss improved from 0.27632 to 0.27480, saving model to D:\\fang\\AI_proj\\tbrain_policy\\checkpoints/0906_16_30_00.h5\n",
      "Epoch 6/250\n",
      "134888/134888 [==============================] - 1s 11us/step - loss: 0.2608 - mean_absolute_error: 0.2608 - val_loss: 0.2709 - val_mean_absolute_error: 0.2709\n",
      "\n",
      "Epoch 00006: val_loss improved from 0.27480 to 0.27089, saving model to D:\\fang\\AI_proj\\tbrain_policy\\checkpoints/0906_16_30_00.h5\n",
      "Epoch 7/250\n",
      "134888/134888 [==============================] - 1s 11us/step - loss: 0.2603 - mean_absolute_error: 0.2603 - val_loss: 0.2754 - val_mean_absolute_error: 0.2754\n",
      "\n",
      "Epoch 00007: val_loss did not improve\n",
      "Epoch 8/250\n",
      "134888/134888 [==============================] - 1s 11us/step - loss: 0.2581 - mean_absolute_error: 0.2581 - val_loss: 0.2741 - val_mean_absolute_error: 0.2741\n",
      "\n",
      "Epoch 00008: val_loss did not improve\n",
      "Epoch 9/250\n",
      "134888/134888 [==============================] - 1s 11us/step - loss: 0.2576 - mean_absolute_error: 0.2576 - val_loss: 0.2757 - val_mean_absolute_error: 0.2757\n",
      "\n",
      "Epoch 00009: val_loss did not improve\n",
      "Epoch 10/250\n",
      "134888/134888 [==============================] - 1s 11us/step - loss: 0.2568 - mean_absolute_error: 0.2568 - val_loss: 0.2749 - val_mean_absolute_error: 0.2749\n",
      "\n",
      "Epoch 00010: val_loss did not improve\n",
      "Epoch 11/250\n",
      "134888/134888 [==============================] - 2s 11us/step - loss: 0.2558 - mean_absolute_error: 0.2558 - val_loss: 0.2692 - val_mean_absolute_error: 0.2692\n",
      "\n",
      "Epoch 00011: val_loss improved from 0.27089 to 0.26916, saving model to D:\\fang\\AI_proj\\tbrain_policy\\checkpoints/0906_16_30_00.h5\n",
      "Epoch 12/250\n",
      "134888/134888 [==============================] - 1s 11us/step - loss: 0.2553 - mean_absolute_error: 0.2553 - val_loss: 0.2695 - val_mean_absolute_error: 0.2695\n",
      "\n",
      "Epoch 00012: val_loss did not improve\n",
      "Epoch 13/250\n",
      "134888/134888 [==============================] - 1s 11us/step - loss: 0.2563 - mean_absolute_error: 0.2563 - val_loss: 0.2722 - val_mean_absolute_error: 0.2722\n",
      "\n",
      "Epoch 00013: val_loss did not improve\n",
      "Epoch 14/250\n",
      "134888/134888 [==============================] - 1s 11us/step - loss: 0.2549 - mean_absolute_error: 0.2549 - val_loss: 0.2700 - val_mean_absolute_error: 0.2700\n",
      "\n",
      "Epoch 00014: val_loss did not improve\n",
      "Epoch 15/250\n",
      "134888/134888 [==============================] - 2s 11us/step - loss: 0.2543 - mean_absolute_error: 0.2543 - val_loss: 0.2711 - val_mean_absolute_error: 0.2711\n",
      "\n",
      "Epoch 00015: val_loss did not improve\n",
      "Epoch 16/250\n",
      "134888/134888 [==============================] - 1s 11us/step - loss: 0.2538 - mean_absolute_error: 0.2538 - val_loss: 0.2677 - val_mean_absolute_error: 0.2677\n",
      "\n",
      "Epoch 00016: val_loss improved from 0.26916 to 0.26766, saving model to D:\\fang\\AI_proj\\tbrain_policy\\checkpoints/0906_16_30_00.h5\n",
      "Epoch 17/250\n",
      "134888/134888 [==============================] - 1s 11us/step - loss: 0.2539 - mean_absolute_error: 0.2539 - val_loss: 0.2695 - val_mean_absolute_error: 0.2695\n",
      "\n",
      "Epoch 00017: val_loss did not improve\n",
      "Epoch 18/250\n",
      "134888/134888 [==============================] - 2s 11us/step - loss: 0.2537 - mean_absolute_error: 0.2537 - val_loss: 0.2681 - val_mean_absolute_error: 0.2681\n",
      "\n",
      "Epoch 00018: val_loss did not improve\n",
      "Epoch 19/250\n",
      "134888/134888 [==============================] - 2s 11us/step - loss: 0.2524 - mean_absolute_error: 0.2524 - val_loss: 0.2700 - val_mean_absolute_error: 0.2700\n",
      "\n",
      "Epoch 00019: val_loss did not improve\n",
      "Epoch 20/250\n",
      "134888/134888 [==============================] - 2s 11us/step - loss: 0.2525 - mean_absolute_error: 0.2525 - val_loss: 0.2715 - val_mean_absolute_error: 0.2715\n",
      "\n",
      "Epoch 00020: val_loss did not improve\n",
      "Epoch 21/250\n",
      "134888/134888 [==============================] - 2s 11us/step - loss: 0.2526 - mean_absolute_error: 0.2526 - val_loss: 0.2721 - val_mean_absolute_error: 0.2721\n",
      "\n",
      "Epoch 00021: val_loss did not improve\n",
      "Epoch 22/250\n",
      "134888/134888 [==============================] - 2s 11us/step - loss: 0.2513 - mean_absolute_error: 0.2513 - val_loss: 0.2705 - val_mean_absolute_error: 0.2705\n",
      "\n",
      "Epoch 00022: val_loss did not improve\n",
      "Epoch 23/250\n",
      "134888/134888 [==============================] - 2s 11us/step - loss: 0.2516 - mean_absolute_error: 0.2516 - val_loss: 0.2726 - val_mean_absolute_error: 0.2726\n",
      "\n",
      "Epoch 00023: val_loss did not improve\n",
      "Epoch 24/250\n",
      "134888/134888 [==============================] - 1s 11us/step - loss: 0.2514 - mean_absolute_error: 0.2514 - val_loss: 0.2730 - val_mean_absolute_error: 0.2730\n",
      "\n",
      "Epoch 00024: val_loss did not improve\n",
      "Epoch 25/250\n",
      "134888/134888 [==============================] - 2s 11us/step - loss: 0.2508 - mean_absolute_error: 0.2508 - val_loss: 0.2690 - val_mean_absolute_error: 0.2690\n",
      "\n",
      "Epoch 00025: val_loss did not improve\n",
      "Epoch 26/250\n",
      "134888/134888 [==============================] - 2s 12us/step - loss: 0.2511 - mean_absolute_error: 0.2511 - val_loss: 0.2722 - val_mean_absolute_error: 0.2722\n",
      "\n",
      "Epoch 00026: val_loss did not improve\n",
      "Epoch 27/250\n",
      "134888/134888 [==============================] - 2s 11us/step - loss: 0.2507 - mean_absolute_error: 0.2507 - val_loss: 0.2690 - val_mean_absolute_error: 0.2690\n",
      "\n",
      "Epoch 00027: val_loss did not improve\n",
      "Epoch 28/250\n",
      "134888/134888 [==============================] - 1s 11us/step - loss: 0.2502 - mean_absolute_error: 0.2502 - val_loss: 0.2736 - val_mean_absolute_error: 0.2736\n",
      "\n",
      "Epoch 00028: val_loss did not improve\n",
      "Epoch 29/250\n",
      "134888/134888 [==============================] - 1s 11us/step - loss: 0.2496 - mean_absolute_error: 0.2496 - val_loss: 0.2713 - val_mean_absolute_error: 0.2713\n",
      "\n",
      "Epoch 00029: val_loss did not improve\n",
      "Epoch 30/250\n",
      "134888/134888 [==============================] - 1s 11us/step - loss: 0.2490 - mean_absolute_error: 0.2490 - val_loss: 0.2694 - val_mean_absolute_error: 0.2694\n",
      "\n",
      "Epoch 00030: val_loss did not improve\n",
      "Epoch 31/250\n",
      "134888/134888 [==============================] - 1s 11us/step - loss: 0.2499 - mean_absolute_error: 0.2499 - val_loss: 0.2702 - val_mean_absolute_error: 0.2702\n",
      "\n",
      "Epoch 00031: val_loss did not improve\n",
      "Epoch 32/250\n",
      "134888/134888 [==============================] - 1s 11us/step - loss: 0.2500 - mean_absolute_error: 0.2500 - val_loss: 0.2725 - val_mean_absolute_error: 0.2725\n",
      "\n",
      "Epoch 00032: val_loss did not improve\n",
      "Epoch 33/250\n",
      "134888/134888 [==============================] - 1s 11us/step - loss: 0.2504 - mean_absolute_error: 0.2504 - val_loss: 0.2726 - val_mean_absolute_error: 0.2726\n",
      "\n",
      "Epoch 00033: val_loss did not improve\n",
      "Epoch 34/250\n",
      "134888/134888 [==============================] - 1s 11us/step - loss: 0.2493 - mean_absolute_error: 0.2493 - val_loss: 0.2699 - val_mean_absolute_error: 0.2699\n",
      "\n",
      "Epoch 00034: val_loss did not improve\n",
      "Epoch 35/250\n",
      "134888/134888 [==============================] - 1s 11us/step - loss: 0.2501 - mean_absolute_error: 0.2501 - val_loss: 0.2735 - val_mean_absolute_error: 0.2735\n",
      "\n",
      "Epoch 00035: val_loss did not improve\n",
      "Epoch 36/250\n",
      "134888/134888 [==============================] - 1s 11us/step - loss: 0.2497 - mean_absolute_error: 0.2497 - val_loss: 0.2695 - val_mean_absolute_error: 0.2695\n",
      "\n",
      "Epoch 00036: val_loss did not improve\n",
      "Epoch 37/250\n",
      "134888/134888 [==============================] - 1s 11us/step - loss: 0.2497 - mean_absolute_error: 0.2497 - val_loss: 0.2714 - val_mean_absolute_error: 0.2714\n",
      "\n",
      "Epoch 00037: val_loss did not improve\n",
      "Epoch 38/250\n",
      "134888/134888 [==============================] - 1s 11us/step - loss: 0.2486 - mean_absolute_error: 0.2486 - val_loss: 0.2703 - val_mean_absolute_error: 0.2703\n",
      "\n",
      "Epoch 00038: val_loss did not improve\n",
      "Epoch 39/250\n",
      "134888/134888 [==============================] - 1s 11us/step - loss: 0.2491 - mean_absolute_error: 0.2491 - val_loss: 0.2683 - val_mean_absolute_error: 0.2683\n",
      "\n",
      "Epoch 00039: val_loss did not improve\n",
      "Epoch 40/250\n",
      "134888/134888 [==============================] - 1s 11us/step - loss: 0.2488 - mean_absolute_error: 0.2488 - val_loss: 0.2687 - val_mean_absolute_error: 0.2687\n",
      "\n",
      "Epoch 00040: val_loss did not improve\n",
      "Epoch 41/250\n",
      "134888/134888 [==============================] - 1s 11us/step - loss: 0.2480 - mean_absolute_error: 0.2480 - val_loss: 0.2678 - val_mean_absolute_error: 0.2678\n",
      "\n",
      "Epoch 00041: val_loss did not improve\n",
      "Epoch 42/250\n",
      "134888/134888 [==============================] - 1s 11us/step - loss: 0.2492 - mean_absolute_error: 0.2492 - val_loss: 0.2685 - val_mean_absolute_error: 0.2685\n",
      "\n",
      "Epoch 00042: val_loss did not improve\n",
      "Epoch 43/250\n",
      "134888/134888 [==============================] - 1s 11us/step - loss: 0.2481 - mean_absolute_error: 0.2481 - val_loss: 0.2674 - val_mean_absolute_error: 0.2674\n",
      "\n",
      "Epoch 00043: val_loss improved from 0.26766 to 0.26736, saving model to D:\\fang\\AI_proj\\tbrain_policy\\checkpoints/0906_16_30_00.h5\n",
      "Epoch 44/250\n",
      "134888/134888 [==============================] - 2s 11us/step - loss: 0.2476 - mean_absolute_error: 0.2476 - val_loss: 0.2691 - val_mean_absolute_error: 0.2691\n",
      "\n",
      "Epoch 00044: val_loss did not improve\n",
      "Epoch 45/250\n",
      "134888/134888 [==============================] - 1s 11us/step - loss: 0.2482 - mean_absolute_error: 0.2482 - val_loss: 0.2674 - val_mean_absolute_error: 0.2674\n",
      "\n",
      "Epoch 00045: val_loss did not improve\n",
      "Epoch 46/250\n",
      "134888/134888 [==============================] - 1s 11us/step - loss: 0.2480 - mean_absolute_error: 0.2480 - val_loss: 0.2708 - val_mean_absolute_error: 0.2708\n",
      "\n",
      "Epoch 00046: val_loss did not improve\n",
      "Epoch 47/250\n",
      "134888/134888 [==============================] - 2s 11us/step - loss: 0.2480 - mean_absolute_error: 0.2480 - val_loss: 0.2654 - val_mean_absolute_error: 0.2654\n",
      "\n",
      "Epoch 00047: val_loss improved from 0.26736 to 0.26535, saving model to D:\\fang\\AI_proj\\tbrain_policy\\checkpoints/0906_16_30_00.h5\n",
      "Epoch 48/250\n",
      "134888/134888 [==============================] - 2s 11us/step - loss: 0.2477 - mean_absolute_error: 0.2477 - val_loss: 0.2658 - val_mean_absolute_error: 0.2658\n",
      "\n",
      "Epoch 00048: val_loss did not improve\n",
      "Epoch 49/250\n",
      "134888/134888 [==============================] - 1s 11us/step - loss: 0.2474 - mean_absolute_error: 0.2474 - val_loss: 0.2659 - val_mean_absolute_error: 0.2659\n",
      "\n",
      "Epoch 00049: val_loss did not improve\n",
      "Epoch 50/250\n",
      "134888/134888 [==============================] - 2s 11us/step - loss: 0.2479 - mean_absolute_error: 0.2479 - val_loss: 0.2668 - val_mean_absolute_error: 0.2668\n",
      "\n",
      "Epoch 00050: val_loss did not improve\n",
      "Epoch 51/250\n",
      "134888/134888 [==============================] - 1s 11us/step - loss: 0.2471 - mean_absolute_error: 0.2471 - val_loss: 0.2668 - val_mean_absolute_error: 0.2668\n",
      "\n",
      "Epoch 00051: val_loss did not improve\n",
      "Epoch 52/250\n",
      "134888/134888 [==============================] - 1s 11us/step - loss: 0.2481 - mean_absolute_error: 0.2481 - val_loss: 0.2664 - val_mean_absolute_error: 0.2664\n",
      "\n",
      "Epoch 00052: val_loss did not improve\n",
      "Epoch 53/250\n",
      "134888/134888 [==============================] - 2s 11us/step - loss: 0.2483 - mean_absolute_error: 0.2483 - val_loss: 0.2660 - val_mean_absolute_error: 0.2660\n",
      "\n",
      "Epoch 00053: val_loss did not improve\n",
      "Epoch 54/250\n",
      "134888/134888 [==============================] - 1s 11us/step - loss: 0.2464 - mean_absolute_error: 0.2464 - val_loss: 0.2674 - val_mean_absolute_error: 0.2674\n",
      "\n",
      "Epoch 00054: val_loss did not improve\n",
      "Epoch 55/250\n",
      "134888/134888 [==============================] - 1s 11us/step - loss: 0.2484 - mean_absolute_error: 0.2484 - val_loss: 0.2660 - val_mean_absolute_error: 0.2660\n",
      "\n",
      "Epoch 00055: val_loss did not improve\n",
      "Epoch 56/250\n",
      "134888/134888 [==============================] - 1s 11us/step - loss: 0.2475 - mean_absolute_error: 0.2475 - val_loss: 0.2665 - val_mean_absolute_error: 0.2665\n",
      "\n",
      "Epoch 00056: val_loss did not improve\n",
      "Epoch 57/250\n",
      "134888/134888 [==============================] - 1s 11us/step - loss: 0.2467 - mean_absolute_error: 0.2467 - val_loss: 0.2660 - val_mean_absolute_error: 0.2660\n",
      "\n",
      "Epoch 00057: val_loss did not improve\n",
      "Epoch 58/250\n",
      "134888/134888 [==============================] - 1s 11us/step - loss: 0.2460 - mean_absolute_error: 0.2460 - val_loss: 0.2675 - val_mean_absolute_error: 0.2675\n",
      "\n",
      "Epoch 00058: val_loss did not improve\n",
      "Epoch 59/250\n",
      "134888/134888 [==============================] - 1s 11us/step - loss: 0.2473 - mean_absolute_error: 0.2473 - val_loss: 0.2647 - val_mean_absolute_error: 0.2647\n",
      "\n",
      "Epoch 00059: val_loss improved from 0.26535 to 0.26473, saving model to D:\\fang\\AI_proj\\tbrain_policy\\checkpoints/0906_16_30_00.h5\n",
      "Epoch 60/250\n",
      "134888/134888 [==============================] - 1s 11us/step - loss: 0.2475 - mean_absolute_error: 0.2475 - val_loss: 0.2650 - val_mean_absolute_error: 0.2650\n",
      "\n",
      "Epoch 00060: val_loss did not improve\n",
      "Epoch 61/250\n",
      "134888/134888 [==============================] - 1s 11us/step - loss: 0.2465 - mean_absolute_error: 0.2465 - val_loss: 0.2659 - val_mean_absolute_error: 0.2659\n",
      "\n",
      "Epoch 00061: val_loss did not improve\n",
      "Epoch 62/250\n",
      "134888/134888 [==============================] - 1s 11us/step - loss: 0.2473 - mean_absolute_error: 0.2473 - val_loss: 0.2631 - val_mean_absolute_error: 0.2631\n",
      "\n",
      "Epoch 00062: val_loss improved from 0.26473 to 0.26311, saving model to D:\\fang\\AI_proj\\tbrain_policy\\checkpoints/0906_16_30_00.h5\n",
      "Epoch 63/250\n",
      "134888/134888 [==============================] - 1s 11us/step - loss: 0.2474 - mean_absolute_error: 0.2474 - val_loss: 0.2646 - val_mean_absolute_error: 0.2646\n",
      "\n",
      "Epoch 00063: val_loss did not improve\n",
      "Epoch 64/250\n",
      "134888/134888 [==============================] - 1s 11us/step - loss: 0.2473 - mean_absolute_error: 0.2473 - val_loss: 0.2641 - val_mean_absolute_error: 0.2641\n",
      "\n",
      "Epoch 00064: val_loss did not improve\n",
      "Epoch 65/250\n",
      "134888/134888 [==============================] - 1s 11us/step - loss: 0.2462 - mean_absolute_error: 0.2462 - val_loss: 0.2705 - val_mean_absolute_error: 0.2705\n",
      "\n",
      "Epoch 00065: val_loss did not improve\n",
      "Epoch 66/250\n",
      "134888/134888 [==============================] - 1s 11us/step - loss: 0.2467 - mean_absolute_error: 0.2467 - val_loss: 0.2657 - val_mean_absolute_error: 0.2657\n",
      "\n",
      "Epoch 00066: val_loss did not improve\n",
      "Epoch 67/250\n",
      "134888/134888 [==============================] - 1s 11us/step - loss: 0.2471 - mean_absolute_error: 0.2471 - val_loss: 0.2668 - val_mean_absolute_error: 0.2668\n",
      "\n",
      "Epoch 00067: val_loss did not improve\n",
      "Epoch 68/250\n",
      "134888/134888 [==============================] - 1s 11us/step - loss: 0.2466 - mean_absolute_error: 0.2466 - val_loss: 0.2627 - val_mean_absolute_error: 0.2627\n",
      "\n",
      "Epoch 00068: val_loss improved from 0.26311 to 0.26274, saving model to D:\\fang\\AI_proj\\tbrain_policy\\checkpoints/0906_16_30_00.h5\n",
      "Epoch 69/250\n",
      "134888/134888 [==============================] - 1s 11us/step - loss: 0.2467 - mean_absolute_error: 0.2467 - val_loss: 0.2629 - val_mean_absolute_error: 0.2629\n",
      "\n",
      "Epoch 00069: val_loss did not improve\n",
      "Epoch 70/250\n",
      "134888/134888 [==============================] - 1s 11us/step - loss: 0.2468 - mean_absolute_error: 0.2468 - val_loss: 0.2659 - val_mean_absolute_error: 0.2659\n",
      "\n",
      "Epoch 00070: val_loss did not improve\n",
      "Epoch 71/250\n",
      "134888/134888 [==============================] - 1s 11us/step - loss: 0.2463 - mean_absolute_error: 0.2463 - val_loss: 0.2640 - val_mean_absolute_error: 0.2640\n",
      "\n",
      "Epoch 00071: val_loss did not improve\n",
      "Epoch 72/250\n",
      "134888/134888 [==============================] - 1s 11us/step - loss: 0.2469 - mean_absolute_error: 0.2469 - val_loss: 0.2644 - val_mean_absolute_error: 0.2644\n",
      "\n",
      "Epoch 00072: val_loss did not improve\n",
      "Epoch 73/250\n",
      "134888/134888 [==============================] - 1s 11us/step - loss: 0.2465 - mean_absolute_error: 0.2465 - val_loss: 0.2638 - val_mean_absolute_error: 0.2638\n",
      "\n",
      "Epoch 00073: val_loss did not improve\n",
      "Epoch 74/250\n",
      "134888/134888 [==============================] - 1s 11us/step - loss: 0.2469 - mean_absolute_error: 0.2469 - val_loss: 0.2662 - val_mean_absolute_error: 0.2662\n",
      "\n",
      "Epoch 00074: val_loss did not improve\n",
      "Epoch 75/250\n",
      "134888/134888 [==============================] - 1s 11us/step - loss: 0.2467 - mean_absolute_error: 0.2467 - val_loss: 0.2635 - val_mean_absolute_error: 0.2635\n",
      "\n",
      "Epoch 00075: val_loss did not improve\n",
      "Epoch 76/250\n",
      "134888/134888 [==============================] - 1s 11us/step - loss: 0.2466 - mean_absolute_error: 0.2466 - val_loss: 0.2661 - val_mean_absolute_error: 0.2661\n",
      "\n",
      "Epoch 00076: val_loss did not improve\n",
      "Epoch 77/250\n",
      "134888/134888 [==============================] - 1s 11us/step - loss: 0.2465 - mean_absolute_error: 0.2465 - val_loss: 0.2633 - val_mean_absolute_error: 0.2633\n",
      "\n",
      "Epoch 00077: val_loss did not improve\n",
      "Epoch 78/250\n",
      "134888/134888 [==============================] - 1s 11us/step - loss: 0.2461 - mean_absolute_error: 0.2461 - val_loss: 0.2624 - val_mean_absolute_error: 0.2624\n",
      "\n",
      "Epoch 00078: val_loss improved from 0.26274 to 0.26240, saving model to D:\\fang\\AI_proj\\tbrain_policy\\checkpoints/0906_16_30_00.h5\n",
      "Epoch 79/250\n",
      "134888/134888 [==============================] - 1s 11us/step - loss: 0.2458 - mean_absolute_error: 0.2458 - val_loss: 0.2657 - val_mean_absolute_error: 0.2657\n",
      "\n",
      "Epoch 00079: val_loss did not improve\n",
      "Epoch 80/250\n",
      "134888/134888 [==============================] - 1s 11us/step - loss: 0.2463 - mean_absolute_error: 0.2463 - val_loss: 0.2635 - val_mean_absolute_error: 0.2635\n",
      "\n",
      "Epoch 00080: val_loss did not improve\n",
      "Epoch 81/250\n",
      "134888/134888 [==============================] - 1s 11us/step - loss: 0.2465 - mean_absolute_error: 0.2465 - val_loss: 0.2621 - val_mean_absolute_error: 0.2621\n",
      "\n",
      "Epoch 00081: val_loss improved from 0.26240 to 0.26209, saving model to D:\\fang\\AI_proj\\tbrain_policy\\checkpoints/0906_16_30_00.h5\n",
      "Epoch 82/250\n",
      "134888/134888 [==============================] - 1s 11us/step - loss: 0.2463 - mean_absolute_error: 0.2463 - val_loss: 0.2635 - val_mean_absolute_error: 0.2635\n",
      "\n",
      "Epoch 00082: val_loss did not improve\n",
      "Epoch 83/250\n",
      "134888/134888 [==============================] - 1s 11us/step - loss: 0.2462 - mean_absolute_error: 0.2462 - val_loss: 0.2633 - val_mean_absolute_error: 0.2633\n",
      "\n",
      "Epoch 00083: val_loss did not improve\n",
      "Epoch 84/250\n",
      "134888/134888 [==============================] - 1s 11us/step - loss: 0.2462 - mean_absolute_error: 0.2462 - val_loss: 0.2618 - val_mean_absolute_error: 0.2618\n",
      "\n",
      "Epoch 00084: val_loss improved from 0.26209 to 0.26180, saving model to D:\\fang\\AI_proj\\tbrain_policy\\checkpoints/0906_16_30_00.h5\n",
      "Epoch 85/250\n",
      "134888/134888 [==============================] - 1s 11us/step - loss: 0.2469 - mean_absolute_error: 0.2469 - val_loss: 0.2622 - val_mean_absolute_error: 0.2622\n",
      "\n",
      "Epoch 00085: val_loss did not improve\n",
      "Epoch 86/250\n",
      "134888/134888 [==============================] - 1s 11us/step - loss: 0.2458 - mean_absolute_error: 0.2458 - val_loss: 0.2614 - val_mean_absolute_error: 0.2614\n",
      "\n",
      "Epoch 00086: val_loss improved from 0.26180 to 0.26139, saving model to D:\\fang\\AI_proj\\tbrain_policy\\checkpoints/0906_16_30_00.h5\n",
      "Epoch 87/250\n",
      "134888/134888 [==============================] - 1s 11us/step - loss: 0.2456 - mean_absolute_error: 0.2456 - val_loss: 0.2621 - val_mean_absolute_error: 0.2621\n",
      "\n",
      "Epoch 00087: val_loss did not improve\n",
      "Epoch 88/250\n",
      "134888/134888 [==============================] - 1s 11us/step - loss: 0.2454 - mean_absolute_error: 0.2454 - val_loss: 0.2610 - val_mean_absolute_error: 0.2610\n",
      "\n",
      "Epoch 00088: val_loss improved from 0.26139 to 0.26100, saving model to D:\\fang\\AI_proj\\tbrain_policy\\checkpoints/0906_16_30_00.h5\n",
      "Epoch 89/250\n",
      "134888/134888 [==============================] - 1s 11us/step - loss: 0.2457 - mean_absolute_error: 0.2457 - val_loss: 0.2632 - val_mean_absolute_error: 0.2632\n",
      "\n",
      "Epoch 00089: val_loss did not improve\n",
      "Epoch 90/250\n",
      "134888/134888 [==============================] - 1s 11us/step - loss: 0.2459 - mean_absolute_error: 0.2459 - val_loss: 0.2646 - val_mean_absolute_error: 0.2646\n",
      "\n",
      "Epoch 00090: val_loss did not improve\n",
      "Epoch 91/250\n",
      "134888/134888 [==============================] - 1s 11us/step - loss: 0.2463 - mean_absolute_error: 0.2463 - val_loss: 0.2614 - val_mean_absolute_error: 0.2614\n",
      "\n",
      "Epoch 00091: val_loss did not improve\n",
      "Epoch 92/250\n",
      "134888/134888 [==============================] - 1s 11us/step - loss: 0.2446 - mean_absolute_error: 0.2446 - val_loss: 0.2610 - val_mean_absolute_error: 0.2610\n",
      "\n",
      "Epoch 00092: val_loss improved from 0.26100 to 0.26098, saving model to D:\\fang\\AI_proj\\tbrain_policy\\checkpoints/0906_16_30_00.h5\n",
      "Epoch 93/250\n",
      "134888/134888 [==============================] - 1s 11us/step - loss: 0.2452 - mean_absolute_error: 0.2452 - val_loss: 0.2604 - val_mean_absolute_error: 0.2604\n",
      "\n",
      "Epoch 00093: val_loss improved from 0.26098 to 0.26036, saving model to D:\\fang\\AI_proj\\tbrain_policy\\checkpoints/0906_16_30_00.h5\n",
      "Epoch 94/250\n",
      "134888/134888 [==============================] - 1s 11us/step - loss: 0.2449 - mean_absolute_error: 0.2449 - val_loss: 0.2640 - val_mean_absolute_error: 0.2640\n",
      "\n",
      "Epoch 00094: val_loss did not improve\n",
      "Epoch 95/250\n",
      "134888/134888 [==============================] - 1s 11us/step - loss: 0.2445 - mean_absolute_error: 0.2445 - val_loss: 0.2619 - val_mean_absolute_error: 0.2619\n",
      "\n",
      "Epoch 00095: val_loss did not improve\n",
      "Epoch 96/250\n",
      "134888/134888 [==============================] - 1s 11us/step - loss: 0.2448 - mean_absolute_error: 0.2448 - val_loss: 0.2627 - val_mean_absolute_error: 0.2627\n",
      "\n",
      "Epoch 00096: val_loss did not improve\n",
      "Epoch 97/250\n",
      "134888/134888 [==============================] - 1s 11us/step - loss: 0.2458 - mean_absolute_error: 0.2458 - val_loss: 0.2612 - val_mean_absolute_error: 0.2612\n",
      "\n",
      "Epoch 00097: val_loss did not improve\n",
      "Epoch 98/250\n",
      "134888/134888 [==============================] - 1s 11us/step - loss: 0.2461 - mean_absolute_error: 0.2461 - val_loss: 0.2626 - val_mean_absolute_error: 0.2626\n",
      "\n",
      "Epoch 00098: val_loss did not improve\n",
      "Epoch 99/250\n",
      "134888/134888 [==============================] - 1s 11us/step - loss: 0.2448 - mean_absolute_error: 0.2448 - val_loss: 0.2628 - val_mean_absolute_error: 0.2628\n",
      "\n",
      "Epoch 00099: val_loss did not improve\n",
      "Epoch 100/250\n",
      "134888/134888 [==============================] - 1s 11us/step - loss: 0.2448 - mean_absolute_error: 0.2448 - val_loss: 0.2611 - val_mean_absolute_error: 0.2611\n",
      "\n",
      "Epoch 00100: val_loss did not improve\n",
      "Epoch 101/250\n",
      "134888/134888 [==============================] - 1s 11us/step - loss: 0.2469 - mean_absolute_error: 0.2469 - val_loss: 0.2609 - val_mean_absolute_error: 0.2609\n",
      "\n",
      "Epoch 00101: val_loss did not improve\n",
      "Epoch 102/250\n",
      "134888/134888 [==============================] - 1s 11us/step - loss: 0.2457 - mean_absolute_error: 0.2457 - val_loss: 0.2605 - val_mean_absolute_error: 0.2605\n",
      "\n",
      "Epoch 00102: val_loss did not improve\n",
      "Epoch 103/250\n",
      "134888/134888 [==============================] - 1s 11us/step - loss: 0.2449 - mean_absolute_error: 0.2449 - val_loss: 0.2623 - val_mean_absolute_error: 0.2623\n",
      "\n",
      "Epoch 00103: val_loss did not improve\n",
      "Epoch 104/250\n",
      "134888/134888 [==============================] - 1s 11us/step - loss: 0.2447 - mean_absolute_error: 0.2447 - val_loss: 0.2666 - val_mean_absolute_error: 0.2666\n",
      "\n",
      "Epoch 00104: val_loss did not improve\n",
      "Epoch 105/250\n",
      "134888/134888 [==============================] - 1s 11us/step - loss: 0.2449 - mean_absolute_error: 0.2449 - val_loss: 0.2595 - val_mean_absolute_error: 0.2595\n",
      "\n",
      "Epoch 00105: val_loss improved from 0.26036 to 0.25948, saving model to D:\\fang\\AI_proj\\tbrain_policy\\checkpoints/0906_16_30_00.h5\n",
      "Epoch 106/250\n",
      "134888/134888 [==============================] - 1s 11us/step - loss: 0.2460 - mean_absolute_error: 0.2460 - val_loss: 0.2591 - val_mean_absolute_error: 0.2591\n",
      "\n",
      "Epoch 00106: val_loss improved from 0.25948 to 0.25909, saving model to D:\\fang\\AI_proj\\tbrain_policy\\checkpoints/0906_16_30_00.h5\n",
      "Epoch 107/250\n",
      "134888/134888 [==============================] - 1s 11us/step - loss: 0.2450 - mean_absolute_error: 0.2450 - val_loss: 0.2612 - val_mean_absolute_error: 0.2612\n",
      "\n",
      "Epoch 00107: val_loss did not improve\n",
      "Epoch 108/250\n",
      "134888/134888 [==============================] - 1s 11us/step - loss: 0.2458 - mean_absolute_error: 0.2458 - val_loss: 0.2614 - val_mean_absolute_error: 0.2614\n",
      "\n",
      "Epoch 00108: val_loss did not improve\n",
      "Epoch 109/250\n",
      "134888/134888 [==============================] - 1s 11us/step - loss: 0.2461 - mean_absolute_error: 0.2461 - val_loss: 0.2612 - val_mean_absolute_error: 0.2612\n",
      "\n",
      "Epoch 00109: val_loss did not improve\n",
      "Epoch 110/250\n",
      "134888/134888 [==============================] - 1s 11us/step - loss: 0.2449 - mean_absolute_error: 0.2449 - val_loss: 0.2620 - val_mean_absolute_error: 0.2620\n",
      "\n",
      "Epoch 00110: val_loss did not improve\n",
      "Epoch 111/250\n",
      "134888/134888 [==============================] - 1s 11us/step - loss: 0.2449 - mean_absolute_error: 0.2449 - val_loss: 0.2605 - val_mean_absolute_error: 0.2605\n",
      "\n",
      "Epoch 00111: val_loss did not improve\n",
      "Epoch 112/250\n",
      "134888/134888 [==============================] - 1s 11us/step - loss: 0.2442 - mean_absolute_error: 0.2442 - val_loss: 0.2612 - val_mean_absolute_error: 0.2612\n",
      "\n",
      "Epoch 00112: val_loss did not improve\n",
      "Epoch 113/250\n",
      "134888/134888 [==============================] - 1s 11us/step - loss: 0.2443 - mean_absolute_error: 0.2443 - val_loss: 0.2606 - val_mean_absolute_error: 0.2606\n",
      "\n",
      "Epoch 00113: val_loss did not improve\n",
      "Epoch 114/250\n",
      "134888/134888 [==============================] - 1s 11us/step - loss: 0.2447 - mean_absolute_error: 0.2447 - val_loss: 0.2631 - val_mean_absolute_error: 0.2631\n",
      "\n",
      "Epoch 00114: val_loss did not improve\n",
      "Epoch 115/250\n",
      "134888/134888 [==============================] - 1s 11us/step - loss: 0.2438 - mean_absolute_error: 0.2438 - val_loss: 0.2652 - val_mean_absolute_error: 0.2652\n",
      "\n",
      "Epoch 00115: val_loss did not improve\n",
      "Epoch 116/250\n",
      "134888/134888 [==============================] - 1s 11us/step - loss: 0.2447 - mean_absolute_error: 0.2447 - val_loss: 0.2605 - val_mean_absolute_error: 0.2605\n",
      "\n",
      "Epoch 00116: val_loss did not improve\n",
      "Epoch 117/250\n",
      "134888/134888 [==============================] - 1s 11us/step - loss: 0.2449 - mean_absolute_error: 0.2449 - val_loss: 0.2612 - val_mean_absolute_error: 0.2612\n",
      "\n",
      "Epoch 00117: val_loss did not improve\n",
      "Epoch 118/250\n",
      "134888/134888 [==============================] - 1s 11us/step - loss: 0.2454 - mean_absolute_error: 0.2454 - val_loss: 0.2640 - val_mean_absolute_error: 0.2640\n",
      "\n",
      "Epoch 00118: val_loss did not improve\n",
      "Epoch 119/250\n",
      "134888/134888 [==============================] - 1s 11us/step - loss: 0.2457 - mean_absolute_error: 0.2457 - val_loss: 0.2601 - val_mean_absolute_error: 0.2601\n",
      "\n",
      "Epoch 00119: val_loss did not improve\n",
      "Epoch 120/250\n",
      "134888/134888 [==============================] - 1s 11us/step - loss: 0.2439 - mean_absolute_error: 0.2439 - val_loss: 0.2609 - val_mean_absolute_error: 0.2609\n",
      "\n",
      "Epoch 00120: val_loss did not improve\n",
      "Epoch 121/250\n",
      "134888/134888 [==============================] - 1s 11us/step - loss: 0.2453 - mean_absolute_error: 0.2453 - val_loss: 0.2626 - val_mean_absolute_error: 0.2626\n",
      "\n",
      "Epoch 00121: val_loss did not improve\n",
      "Epoch 122/250\n",
      "134888/134888 [==============================] - 1s 11us/step - loss: 0.2459 - mean_absolute_error: 0.2459 - val_loss: 0.2611 - val_mean_absolute_error: 0.2611\n",
      "\n",
      "Epoch 00122: val_loss did not improve\n",
      "Epoch 123/250\n",
      "134888/134888 [==============================] - 1s 11us/step - loss: 0.2439 - mean_absolute_error: 0.2439 - val_loss: 0.2611 - val_mean_absolute_error: 0.2611\n",
      "\n",
      "Epoch 00123: val_loss did not improve\n",
      "Epoch 124/250\n",
      "134888/134888 [==============================] - 1s 11us/step - loss: 0.2450 - mean_absolute_error: 0.2450 - val_loss: 0.2632 - val_mean_absolute_error: 0.2632\n",
      "\n",
      "Epoch 00124: val_loss did not improve\n",
      "Epoch 125/250\n",
      "134888/134888 [==============================] - 1s 11us/step - loss: 0.2449 - mean_absolute_error: 0.2449 - val_loss: 0.2634 - val_mean_absolute_error: 0.2634\n",
      "\n",
      "Epoch 00125: val_loss did not improve\n",
      "Epoch 126/250\n",
      "134888/134888 [==============================] - 1s 11us/step - loss: 0.2446 - mean_absolute_error: 0.2446 - val_loss: 0.2606 - val_mean_absolute_error: 0.2606\n",
      "\n",
      "Epoch 00126: val_loss did not improve\n",
      "Epoch 127/250\n",
      "134888/134888 [==============================] - 1s 11us/step - loss: 0.2450 - mean_absolute_error: 0.2450 - val_loss: 0.2629 - val_mean_absolute_error: 0.2629\n",
      "\n",
      "Epoch 00127: val_loss did not improve\n",
      "Epoch 128/250\n",
      "134888/134888 [==============================] - 1s 11us/step - loss: 0.2443 - mean_absolute_error: 0.2443 - val_loss: 0.2602 - val_mean_absolute_error: 0.2602\n",
      "\n",
      "Epoch 00128: val_loss did not improve\n",
      "Epoch 129/250\n",
      "134888/134888 [==============================] - 1s 11us/step - loss: 0.2449 - mean_absolute_error: 0.2449 - val_loss: 0.2616 - val_mean_absolute_error: 0.2616\n",
      "\n",
      "Epoch 00129: val_loss did not improve\n",
      "Epoch 130/250\n",
      "134888/134888 [==============================] - 1s 11us/step - loss: 0.2446 - mean_absolute_error: 0.2446 - val_loss: 0.2597 - val_mean_absolute_error: 0.2597\n",
      "\n",
      "Epoch 00130: val_loss did not improve\n",
      "Epoch 131/250\n",
      "134888/134888 [==============================] - 1s 11us/step - loss: 0.2444 - mean_absolute_error: 0.2444 - val_loss: 0.2614 - val_mean_absolute_error: 0.2614\n",
      "\n",
      "Epoch 00131: val_loss did not improve\n",
      "Epoch 132/250\n",
      "134888/134888 [==============================] - 1s 11us/step - loss: 0.2455 - mean_absolute_error: 0.2455 - val_loss: 0.2598 - val_mean_absolute_error: 0.2598\n",
      "\n",
      "Epoch 00132: val_loss did not improve\n",
      "Epoch 133/250\n",
      "134888/134888 [==============================] - 1s 11us/step - loss: 0.2444 - mean_absolute_error: 0.2444 - val_loss: 0.2615 - val_mean_absolute_error: 0.2615\n",
      "\n",
      "Epoch 00133: val_loss did not improve\n",
      "Epoch 134/250\n",
      "134888/134888 [==============================] - 1s 11us/step - loss: 0.2450 - mean_absolute_error: 0.2450 - val_loss: 0.2598 - val_mean_absolute_error: 0.2598\n",
      "\n",
      "Epoch 00134: val_loss did not improve\n",
      "Epoch 135/250\n",
      "134888/134888 [==============================] - 1s 11us/step - loss: 0.2449 - mean_absolute_error: 0.2449 - val_loss: 0.2602 - val_mean_absolute_error: 0.2602\n",
      "\n",
      "Epoch 00135: val_loss did not improve\n",
      "Epoch 136/250\n",
      "134888/134888 [==============================] - 1s 11us/step - loss: 0.2439 - mean_absolute_error: 0.2439 - val_loss: 0.2611 - val_mean_absolute_error: 0.2611\n",
      "\n",
      "Epoch 00136: val_loss did not improve\n",
      "Epoch 137/250\n",
      "134888/134888 [==============================] - 1s 11us/step - loss: 0.2446 - mean_absolute_error: 0.2446 - val_loss: 0.2613 - val_mean_absolute_error: 0.2613\n",
      "\n",
      "Epoch 00137: val_loss did not improve\n",
      "Epoch 138/250\n",
      "134888/134888 [==============================] - 1s 11us/step - loss: 0.2442 - mean_absolute_error: 0.2442 - val_loss: 0.2626 - val_mean_absolute_error: 0.2626\n",
      "\n",
      "Epoch 00138: val_loss did not improve\n",
      "Epoch 139/250\n",
      "134888/134888 [==============================] - 1s 11us/step - loss: 0.2436 - mean_absolute_error: 0.2436 - val_loss: 0.2633 - val_mean_absolute_error: 0.2633\n",
      "\n",
      "Epoch 00139: val_loss did not improve\n",
      "Epoch 140/250\n",
      "134888/134888 [==============================] - 1s 11us/step - loss: 0.2457 - mean_absolute_error: 0.2457 - val_loss: 0.2604 - val_mean_absolute_error: 0.2604\n",
      "\n",
      "Epoch 00140: val_loss did not improve\n",
      "Epoch 141/250\n",
      "134888/134888 [==============================] - 1s 11us/step - loss: 0.2448 - mean_absolute_error: 0.2448 - val_loss: 0.2612 - val_mean_absolute_error: 0.2612\n",
      "\n",
      "Epoch 00141: val_loss did not improve\n",
      "Epoch 142/250\n",
      "134888/134888 [==============================] - 1s 11us/step - loss: 0.2435 - mean_absolute_error: 0.2435 - val_loss: 0.2619 - val_mean_absolute_error: 0.2619\n",
      "\n",
      "Epoch 00142: val_loss did not improve\n",
      "Epoch 143/250\n",
      "134888/134888 [==============================] - 1s 11us/step - loss: 0.2435 - mean_absolute_error: 0.2435 - val_loss: 0.2626 - val_mean_absolute_error: 0.2626\n",
      "\n",
      "Epoch 00143: val_loss did not improve\n",
      "Epoch 144/250\n",
      "134888/134888 [==============================] - 1s 11us/step - loss: 0.2441 - mean_absolute_error: 0.2441 - val_loss: 0.2609 - val_mean_absolute_error: 0.2609\n",
      "\n",
      "Epoch 00144: val_loss did not improve\n",
      "Epoch 145/250\n",
      "134888/134888 [==============================] - 1s 11us/step - loss: 0.2443 - mean_absolute_error: 0.2443 - val_loss: 0.2622 - val_mean_absolute_error: 0.2622\n",
      "\n",
      "Epoch 00145: val_loss did not improve\n",
      "Epoch 146/250\n",
      "134888/134888 [==============================] - 1s 11us/step - loss: 0.2445 - mean_absolute_error: 0.2445 - val_loss: 0.2621 - val_mean_absolute_error: 0.2621\n",
      "\n",
      "Epoch 00146: val_loss did not improve\n",
      "Epoch 147/250\n",
      "134888/134888 [==============================] - 1s 11us/step - loss: 0.2450 - mean_absolute_error: 0.2450 - val_loss: 0.2627 - val_mean_absolute_error: 0.2627\n",
      "\n",
      "Epoch 00147: val_loss did not improve\n",
      "Epoch 148/250\n",
      "134888/134888 [==============================] - 1s 11us/step - loss: 0.2435 - mean_absolute_error: 0.2435 - val_loss: 0.2625 - val_mean_absolute_error: 0.2625\n",
      "\n",
      "Epoch 00148: val_loss did not improve\n",
      "Epoch 149/250\n",
      "134888/134888 [==============================] - 1s 11us/step - loss: 0.2447 - mean_absolute_error: 0.2447 - val_loss: 0.2631 - val_mean_absolute_error: 0.2631\n",
      "\n",
      "Epoch 00149: val_loss did not improve\n",
      "Epoch 150/250\n",
      "134888/134888 [==============================] - 1s 11us/step - loss: 0.2445 - mean_absolute_error: 0.2445 - val_loss: 0.2638 - val_mean_absolute_error: 0.2638\n",
      "\n",
      "Epoch 00150: val_loss did not improve\n",
      "Epoch 151/250\n",
      "134888/134888 [==============================] - 1s 11us/step - loss: 0.2441 - mean_absolute_error: 0.2441 - val_loss: 0.2611 - val_mean_absolute_error: 0.2611\n",
      "\n",
      "Epoch 00151: val_loss did not improve\n",
      "Epoch 152/250\n",
      "134888/134888 [==============================] - 1s 11us/step - loss: 0.2437 - mean_absolute_error: 0.2437 - val_loss: 0.2641 - val_mean_absolute_error: 0.2641\n",
      "\n",
      "Epoch 00152: val_loss did not improve\n",
      "Epoch 153/250\n",
      "134888/134888 [==============================] - 1s 11us/step - loss: 0.2440 - mean_absolute_error: 0.2440 - val_loss: 0.2618 - val_mean_absolute_error: 0.2618\n",
      "\n",
      "Epoch 00153: val_loss did not improve\n",
      "Epoch 154/250\n",
      "134888/134888 [==============================] - 1s 11us/step - loss: 0.2444 - mean_absolute_error: 0.2444 - val_loss: 0.2613 - val_mean_absolute_error: 0.2613\n",
      "\n",
      "Epoch 00154: val_loss did not improve\n",
      "Epoch 155/250\n",
      "134888/134888 [==============================] - 1s 11us/step - loss: 0.2438 - mean_absolute_error: 0.2438 - val_loss: 0.2606 - val_mean_absolute_error: 0.2606\n",
      "\n",
      "Epoch 00155: val_loss did not improve\n",
      "Epoch 156/250\n",
      "134888/134888 [==============================] - 1s 11us/step - loss: 0.2439 - mean_absolute_error: 0.2439 - val_loss: 0.2618 - val_mean_absolute_error: 0.2618\n",
      "\n",
      "Epoch 00156: val_loss did not improve\n",
      "Epoch 157/250\n",
      "134888/134888 [==============================] - 1s 11us/step - loss: 0.2438 - mean_absolute_error: 0.2438 - val_loss: 0.2600 - val_mean_absolute_error: 0.2600\n",
      "\n",
      "Epoch 00157: val_loss did not improve\n",
      "Epoch 158/250\n",
      "134888/134888 [==============================] - 1s 11us/step - loss: 0.2444 - mean_absolute_error: 0.2444 - val_loss: 0.2596 - val_mean_absolute_error: 0.2596\n",
      "\n",
      "Epoch 00158: val_loss did not improve\n",
      "Epoch 159/250\n",
      "134888/134888 [==============================] - 1s 11us/step - loss: 0.2435 - mean_absolute_error: 0.2435 - val_loss: 0.2614 - val_mean_absolute_error: 0.2614\n",
      "\n",
      "Epoch 00159: val_loss did not improve\n",
      "Epoch 160/250\n",
      "134888/134888 [==============================] - 2s 11us/step - loss: 0.2436 - mean_absolute_error: 0.2436 - val_loss: 0.2596 - val_mean_absolute_error: 0.2596\n",
      "\n",
      "Epoch 00160: val_loss did not improve\n",
      "Epoch 161/250\n",
      "134888/134888 [==============================] - 1s 11us/step - loss: 0.2442 - mean_absolute_error: 0.2442 - val_loss: 0.2625 - val_mean_absolute_error: 0.2625\n",
      "\n",
      "Epoch 00161: val_loss did not improve\n",
      "Epoch 162/250\n",
      "134888/134888 [==============================] - 1s 11us/step - loss: 0.2440 - mean_absolute_error: 0.2440 - val_loss: 0.2622 - val_mean_absolute_error: 0.2622\n",
      "\n",
      "Epoch 00162: val_loss did not improve\n",
      "Epoch 163/250\n",
      "134888/134888 [==============================] - 1s 11us/step - loss: 0.2436 - mean_absolute_error: 0.2436 - val_loss: 0.2601 - val_mean_absolute_error: 0.2601\n",
      "\n",
      "Epoch 00163: val_loss did not improve\n",
      "Epoch 164/250\n",
      "134888/134888 [==============================] - 1s 10us/step - loss: 0.2429 - mean_absolute_error: 0.2429 - val_loss: 0.2593 - val_mean_absolute_error: 0.2593\n",
      "\n",
      "Epoch 00164: val_loss did not improve\n",
      "Epoch 165/250\n",
      "134888/134888 [==============================] - 1s 11us/step - loss: 0.2440 - mean_absolute_error: 0.2440 - val_loss: 0.2625 - val_mean_absolute_error: 0.2625\n",
      "\n",
      "Epoch 00165: val_loss did not improve\n",
      "Epoch 166/250\n",
      "134888/134888 [==============================] - 1s 11us/step - loss: 0.2436 - mean_absolute_error: 0.2436 - val_loss: 0.2614 - val_mean_absolute_error: 0.2614\n",
      "\n",
      "Epoch 00166: val_loss did not improve\n",
      "Epoch 167/250\n",
      "134888/134888 [==============================] - 1s 11us/step - loss: 0.2435 - mean_absolute_error: 0.2435 - val_loss: 0.2618 - val_mean_absolute_error: 0.2618\n",
      "\n",
      "Epoch 00167: val_loss did not improve\n",
      "Epoch 168/250\n",
      "134888/134888 [==============================] - 1s 11us/step - loss: 0.2441 - mean_absolute_error: 0.2441 - val_loss: 0.2609 - val_mean_absolute_error: 0.2609\n",
      "\n",
      "Epoch 00168: val_loss did not improve\n",
      "Epoch 169/250\n",
      "134888/134888 [==============================] - 1s 11us/step - loss: 0.2429 - mean_absolute_error: 0.2429 - val_loss: 0.2615 - val_mean_absolute_error: 0.2615\n",
      "\n",
      "Epoch 00169: val_loss did not improve\n",
      "Epoch 170/250\n",
      "134888/134888 [==============================] - 1s 11us/step - loss: 0.2442 - mean_absolute_error: 0.2442 - val_loss: 0.2613 - val_mean_absolute_error: 0.2613\n",
      "\n",
      "Epoch 00170: val_loss did not improve\n",
      "Epoch 171/250\n",
      "134888/134888 [==============================] - 1s 11us/step - loss: 0.2442 - mean_absolute_error: 0.2442 - val_loss: 0.2617 - val_mean_absolute_error: 0.2617\n",
      "\n",
      "Epoch 00171: val_loss did not improve\n",
      "Epoch 172/250\n",
      "134888/134888 [==============================] - 1s 11us/step - loss: 0.2433 - mean_absolute_error: 0.2433 - val_loss: 0.2605 - val_mean_absolute_error: 0.2605\n",
      "\n",
      "Epoch 00172: val_loss did not improve\n",
      "Epoch 173/250\n",
      "134888/134888 [==============================] - 1s 11us/step - loss: 0.2435 - mean_absolute_error: 0.2435 - val_loss: 0.2613 - val_mean_absolute_error: 0.2613\n",
      "\n",
      "Epoch 00173: val_loss did not improve\n",
      "Epoch 174/250\n",
      "134888/134888 [==============================] - 1s 10us/step - loss: 0.2440 - mean_absolute_error: 0.2440 - val_loss: 0.2610 - val_mean_absolute_error: 0.2610\n",
      "\n",
      "Epoch 00174: val_loss did not improve\n",
      "Epoch 175/250\n",
      "134888/134888 [==============================] - 1s 11us/step - loss: 0.2432 - mean_absolute_error: 0.2432 - val_loss: 0.2639 - val_mean_absolute_error: 0.2639\n",
      "\n",
      "Epoch 00175: val_loss did not improve\n",
      "Epoch 176/250\n",
      "134888/134888 [==============================] - 1s 11us/step - loss: 0.2444 - mean_absolute_error: 0.2444 - val_loss: 0.2620 - val_mean_absolute_error: 0.2620\n",
      "\n",
      "Epoch 00176: val_loss did not improve\n",
      "Epoch 177/250\n",
      "134888/134888 [==============================] - 1s 11us/step - loss: 0.2438 - mean_absolute_error: 0.2438 - val_loss: 0.2624 - val_mean_absolute_error: 0.2624\n",
      "\n",
      "Epoch 00177: val_loss did not improve\n",
      "Epoch 178/250\n",
      "134888/134888 [==============================] - 1s 11us/step - loss: 0.2443 - mean_absolute_error: 0.2443 - val_loss: 0.2606 - val_mean_absolute_error: 0.2606\n",
      "\n",
      "Epoch 00178: val_loss did not improve\n",
      "Epoch 179/250\n",
      "134888/134888 [==============================] - 1s 11us/step - loss: 0.2437 - mean_absolute_error: 0.2437 - val_loss: 0.2620 - val_mean_absolute_error: 0.2620\n",
      "\n",
      "Epoch 00179: val_loss did not improve\n",
      "Epoch 180/250\n",
      "134888/134888 [==============================] - 1s 11us/step - loss: 0.2433 - mean_absolute_error: 0.2433 - val_loss: 0.2603 - val_mean_absolute_error: 0.2603\n",
      "\n",
      "Epoch 00180: val_loss did not improve\n",
      "Epoch 181/250\n",
      "134888/134888 [==============================] - 1s 11us/step - loss: 0.2443 - mean_absolute_error: 0.2443 - val_loss: 0.2634 - val_mean_absolute_error: 0.2634\n",
      "\n",
      "Epoch 00181: val_loss did not improve\n",
      "Epoch 182/250\n",
      "134888/134888 [==============================] - 1s 11us/step - loss: 0.2446 - mean_absolute_error: 0.2446 - val_loss: 0.2620 - val_mean_absolute_error: 0.2620\n",
      "\n",
      "Epoch 00182: val_loss did not improve\n",
      "Epoch 183/250\n",
      "134888/134888 [==============================] - 1s 11us/step - loss: 0.2444 - mean_absolute_error: 0.2444 - val_loss: 0.2623 - val_mean_absolute_error: 0.2623\n",
      "\n",
      "Epoch 00183: val_loss did not improve\n",
      "Epoch 184/250\n",
      "134888/134888 [==============================] - 1s 11us/step - loss: 0.2441 - mean_absolute_error: 0.2441 - val_loss: 0.2644 - val_mean_absolute_error: 0.2644\n",
      "\n",
      "Epoch 00184: val_loss did not improve\n",
      "Epoch 185/250\n",
      "134888/134888 [==============================] - 1s 11us/step - loss: 0.2434 - mean_absolute_error: 0.2434 - val_loss: 0.2627 - val_mean_absolute_error: 0.2627\n",
      "\n",
      "Epoch 00185: val_loss did not improve\n",
      "Epoch 186/250\n",
      "134888/134888 [==============================] - 1s 11us/step - loss: 0.2437 - mean_absolute_error: 0.2437 - val_loss: 0.2609 - val_mean_absolute_error: 0.2609\n",
      "\n",
      "Epoch 00186: val_loss did not improve\n",
      "Epoch 187/250\n",
      "134888/134888 [==============================] - 1s 11us/step - loss: 0.2435 - mean_absolute_error: 0.2435 - val_loss: 0.2614 - val_mean_absolute_error: 0.2614\n",
      "\n",
      "Epoch 00187: val_loss did not improve\n",
      "Epoch 188/250\n",
      "134888/134888 [==============================] - 1s 11us/step - loss: 0.2436 - mean_absolute_error: 0.2436 - val_loss: 0.2637 - val_mean_absolute_error: 0.2637\n",
      "\n",
      "Epoch 00188: val_loss did not improve\n",
      "Epoch 189/250\n",
      "134888/134888 [==============================] - 1s 11us/step - loss: 0.2434 - mean_absolute_error: 0.2434 - val_loss: 0.2618 - val_mean_absolute_error: 0.2618\n",
      "\n",
      "Epoch 00189: val_loss did not improve\n",
      "Epoch 190/250\n",
      "134888/134888 [==============================] - 1s 11us/step - loss: 0.2429 - mean_absolute_error: 0.2429 - val_loss: 0.2615 - val_mean_absolute_error: 0.2615\n",
      "\n",
      "Epoch 00190: val_loss did not improve\n",
      "Epoch 191/250\n",
      "134888/134888 [==============================] - 1s 11us/step - loss: 0.2440 - mean_absolute_error: 0.2440 - val_loss: 0.2610 - val_mean_absolute_error: 0.2610\n",
      "\n",
      "Epoch 00191: val_loss did not improve\n",
      "Epoch 192/250\n",
      "134888/134888 [==============================] - 1s 11us/step - loss: 0.2428 - mean_absolute_error: 0.2428 - val_loss: 0.2613 - val_mean_absolute_error: 0.2613\n",
      "\n",
      "Epoch 00192: val_loss did not improve\n",
      "Epoch 193/250\n",
      "134888/134888 [==============================] - 1s 11us/step - loss: 0.2442 - mean_absolute_error: 0.2442 - val_loss: 0.2640 - val_mean_absolute_error: 0.2640\n",
      "\n",
      "Epoch 00193: val_loss did not improve\n",
      "Epoch 194/250\n",
      "134888/134888 [==============================] - 1s 11us/step - loss: 0.2436 - mean_absolute_error: 0.2436 - val_loss: 0.2634 - val_mean_absolute_error: 0.2634\n",
      "\n",
      "Epoch 00194: val_loss did not improve\n",
      "Epoch 195/250\n",
      "134888/134888 [==============================] - 1s 11us/step - loss: 0.2431 - mean_absolute_error: 0.2431 - val_loss: 0.2635 - val_mean_absolute_error: 0.2635\n",
      "\n",
      "Epoch 00195: val_loss did not improve\n",
      "Epoch 196/250\n",
      "134888/134888 [==============================] - 1s 11us/step - loss: 0.2438 - mean_absolute_error: 0.2438 - val_loss: 0.2624 - val_mean_absolute_error: 0.2624\n",
      "\n",
      "Epoch 00196: val_loss did not improve\n",
      "Epoch 197/250\n",
      "134888/134888 [==============================] - 1s 11us/step - loss: 0.2436 - mean_absolute_error: 0.2436 - val_loss: 0.2621 - val_mean_absolute_error: 0.2621\n",
      "\n",
      "Epoch 00197: val_loss did not improve\n",
      "Epoch 198/250\n",
      "134888/134888 [==============================] - 1s 11us/step - loss: 0.2442 - mean_absolute_error: 0.2442 - val_loss: 0.2614 - val_mean_absolute_error: 0.2614\n",
      "\n",
      "Epoch 00198: val_loss did not improve\n",
      "Epoch 199/250\n",
      "134888/134888 [==============================] - 1s 11us/step - loss: 0.2435 - mean_absolute_error: 0.2435 - val_loss: 0.2622 - val_mean_absolute_error: 0.2622\n",
      "\n",
      "Epoch 00199: val_loss did not improve\n",
      "Epoch 200/250\n",
      "134888/134888 [==============================] - 1s 11us/step - loss: 0.2435 - mean_absolute_error: 0.2435 - val_loss: 0.2616 - val_mean_absolute_error: 0.2616\n",
      "\n",
      "Epoch 00200: val_loss did not improve\n",
      "Epoch 201/250\n",
      "134888/134888 [==============================] - 1s 11us/step - loss: 0.2432 - mean_absolute_error: 0.2432 - val_loss: 0.2612 - val_mean_absolute_error: 0.2612\n",
      "\n",
      "Epoch 00201: val_loss did not improve\n",
      "Epoch 202/250\n",
      "134888/134888 [==============================] - 1s 11us/step - loss: 0.2437 - mean_absolute_error: 0.2437 - val_loss: 0.2610 - val_mean_absolute_error: 0.2610\n",
      "\n",
      "Epoch 00202: val_loss did not improve\n",
      "Epoch 203/250\n",
      "134888/134888 [==============================] - 1s 11us/step - loss: 0.2426 - mean_absolute_error: 0.2426 - val_loss: 0.2605 - val_mean_absolute_error: 0.2605\n",
      "\n",
      "Epoch 00203: val_loss did not improve\n",
      "Epoch 204/250\n",
      "134888/134888 [==============================] - 1s 11us/step - loss: 0.2435 - mean_absolute_error: 0.2435 - val_loss: 0.2605 - val_mean_absolute_error: 0.2605\n",
      "\n",
      "Epoch 00204: val_loss did not improve\n",
      "Epoch 205/250\n",
      "134888/134888 [==============================] - 1s 11us/step - loss: 0.2439 - mean_absolute_error: 0.2439 - val_loss: 0.2629 - val_mean_absolute_error: 0.2629\n",
      "\n",
      "Epoch 00205: val_loss did not improve\n",
      "Epoch 206/250\n",
      "134888/134888 [==============================] - 1s 11us/step - loss: 0.2435 - mean_absolute_error: 0.2435 - val_loss: 0.2600 - val_mean_absolute_error: 0.2600\n",
      "\n",
      "Epoch 00206: val_loss did not improve\n",
      "Epoch 207/250\n",
      "134888/134888 [==============================] - 1s 11us/step - loss: 0.2422 - mean_absolute_error: 0.2422 - val_loss: 0.2604 - val_mean_absolute_error: 0.2604\n",
      "\n",
      "Epoch 00207: val_loss did not improve\n",
      "Epoch 208/250\n",
      "134888/134888 [==============================] - 1s 11us/step - loss: 0.2427 - mean_absolute_error: 0.2427 - val_loss: 0.2605 - val_mean_absolute_error: 0.2605\n",
      "\n",
      "Epoch 00208: val_loss did not improve\n",
      "Epoch 209/250\n",
      "134888/134888 [==============================] - 1s 11us/step - loss: 0.2436 - mean_absolute_error: 0.2436 - val_loss: 0.2620 - val_mean_absolute_error: 0.2620\n",
      "\n",
      "Epoch 00209: val_loss did not improve\n",
      "Epoch 210/250\n",
      "134888/134888 [==============================] - 1s 11us/step - loss: 0.2432 - mean_absolute_error: 0.2432 - val_loss: 0.2626 - val_mean_absolute_error: 0.2626\n",
      "\n",
      "Epoch 00210: val_loss did not improve\n",
      "Epoch 211/250\n",
      "134888/134888 [==============================] - 1s 11us/step - loss: 0.2432 - mean_absolute_error: 0.2432 - val_loss: 0.2614 - val_mean_absolute_error: 0.2614\n",
      "\n",
      "Epoch 00211: val_loss did not improve\n",
      "Epoch 212/250\n",
      "134888/134888 [==============================] - 1s 11us/step - loss: 0.2432 - mean_absolute_error: 0.2432 - val_loss: 0.2619 - val_mean_absolute_error: 0.2619\n",
      "\n",
      "Epoch 00212: val_loss did not improve\n",
      "Epoch 213/250\n",
      "134888/134888 [==============================] - 1s 11us/step - loss: 0.2432 - mean_absolute_error: 0.2432 - val_loss: 0.2651 - val_mean_absolute_error: 0.2651\n",
      "\n",
      "Epoch 00213: val_loss did not improve\n",
      "Epoch 214/250\n",
      "134888/134888 [==============================] - 1s 11us/step - loss: 0.2432 - mean_absolute_error: 0.2432 - val_loss: 0.2605 - val_mean_absolute_error: 0.2605\n",
      "\n",
      "Epoch 00214: val_loss did not improve\n",
      "Epoch 215/250\n",
      "134888/134888 [==============================] - 1s 11us/step - loss: 0.2434 - mean_absolute_error: 0.2434 - val_loss: 0.2626 - val_mean_absolute_error: 0.2626\n",
      "\n",
      "Epoch 00215: val_loss did not improve\n",
      "Epoch 216/250\n",
      "134888/134888 [==============================] - 1s 11us/step - loss: 0.2434 - mean_absolute_error: 0.2434 - val_loss: 0.2654 - val_mean_absolute_error: 0.2654\n",
      "\n",
      "Epoch 00216: val_loss did not improve\n",
      "Epoch 217/250\n",
      "134888/134888 [==============================] - 1s 11us/step - loss: 0.2435 - mean_absolute_error: 0.2435 - val_loss: 0.2619 - val_mean_absolute_error: 0.2619\n",
      "\n",
      "Epoch 00217: val_loss did not improve\n",
      "Epoch 218/250\n",
      "134888/134888 [==============================] - 1s 11us/step - loss: 0.2439 - mean_absolute_error: 0.2439 - val_loss: 0.2623 - val_mean_absolute_error: 0.2623\n",
      "\n",
      "Epoch 00218: val_loss did not improve\n",
      "Epoch 219/250\n",
      "134888/134888 [==============================] - 1s 11us/step - loss: 0.2435 - mean_absolute_error: 0.2435 - val_loss: 0.2617 - val_mean_absolute_error: 0.2617\n",
      "\n",
      "Epoch 00219: val_loss did not improve\n",
      "Epoch 220/250\n",
      "134888/134888 [==============================] - 1s 11us/step - loss: 0.2437 - mean_absolute_error: 0.2437 - val_loss: 0.2631 - val_mean_absolute_error: 0.2631\n",
      "\n",
      "Epoch 00220: val_loss did not improve\n",
      "Epoch 221/250\n",
      "134888/134888 [==============================] - 1s 11us/step - loss: 0.2429 - mean_absolute_error: 0.2429 - val_loss: 0.2615 - val_mean_absolute_error: 0.2615\n",
      "\n",
      "Epoch 00221: val_loss did not improve\n",
      "Epoch 222/250\n",
      "134888/134888 [==============================] - 1s 11us/step - loss: 0.2433 - mean_absolute_error: 0.2433 - val_loss: 0.2631 - val_mean_absolute_error: 0.2631\n",
      "\n",
      "Epoch 00222: val_loss did not improve\n",
      "Epoch 223/250\n",
      "134888/134888 [==============================] - 1s 11us/step - loss: 0.2434 - mean_absolute_error: 0.2434 - val_loss: 0.2625 - val_mean_absolute_error: 0.2625\n",
      "\n",
      "Epoch 00223: val_loss did not improve\n",
      "Epoch 224/250\n",
      "134888/134888 [==============================] - 1s 11us/step - loss: 0.2427 - mean_absolute_error: 0.2427 - val_loss: 0.2613 - val_mean_absolute_error: 0.2613\n",
      "\n",
      "Epoch 00224: val_loss did not improve\n",
      "Epoch 225/250\n",
      "134888/134888 [==============================] - 1s 11us/step - loss: 0.2437 - mean_absolute_error: 0.2437 - val_loss: 0.2622 - val_mean_absolute_error: 0.2622\n",
      "\n",
      "Epoch 00225: val_loss did not improve\n",
      "Epoch 226/250\n",
      "134888/134888 [==============================] - 1s 11us/step - loss: 0.2431 - mean_absolute_error: 0.2431 - val_loss: 0.2628 - val_mean_absolute_error: 0.2628\n",
      "\n",
      "Epoch 00226: val_loss did not improve\n",
      "Epoch 227/250\n",
      "134888/134888 [==============================] - 1s 11us/step - loss: 0.2434 - mean_absolute_error: 0.2434 - val_loss: 0.2615 - val_mean_absolute_error: 0.2615\n",
      "\n",
      "Epoch 00227: val_loss did not improve\n",
      "Epoch 228/250\n",
      "134888/134888 [==============================] - 1s 11us/step - loss: 0.2437 - mean_absolute_error: 0.2437 - val_loss: 0.2612 - val_mean_absolute_error: 0.2612\n",
      "\n",
      "Epoch 00228: val_loss did not improve\n",
      "Epoch 229/250\n",
      "134888/134888 [==============================] - 1s 11us/step - loss: 0.2435 - mean_absolute_error: 0.2435 - val_loss: 0.2604 - val_mean_absolute_error: 0.2604\n",
      "\n",
      "Epoch 00229: val_loss did not improve\n",
      "Epoch 230/250\n",
      "134888/134888 [==============================] - 1s 11us/step - loss: 0.2440 - mean_absolute_error: 0.2440 - val_loss: 0.2657 - val_mean_absolute_error: 0.2657\n",
      "\n",
      "Epoch 00230: val_loss did not improve\n",
      "Epoch 231/250\n",
      "134888/134888 [==============================] - 1s 11us/step - loss: 0.2442 - mean_absolute_error: 0.2442 - val_loss: 0.2609 - val_mean_absolute_error: 0.2609\n",
      "\n",
      "Epoch 00231: val_loss did not improve\n",
      "Epoch 232/250\n",
      "134888/134888 [==============================] - 1s 11us/step - loss: 0.2434 - mean_absolute_error: 0.2434 - val_loss: 0.2607 - val_mean_absolute_error: 0.2607\n",
      "\n",
      "Epoch 00232: val_loss did not improve\n",
      "Epoch 233/250\n",
      "134888/134888 [==============================] - 1s 11us/step - loss: 0.2430 - mean_absolute_error: 0.2430 - val_loss: 0.2614 - val_mean_absolute_error: 0.2614\n",
      "\n",
      "Epoch 00233: val_loss did not improve\n",
      "Epoch 234/250\n",
      "134888/134888 [==============================] - 1s 11us/step - loss: 0.2429 - mean_absolute_error: 0.2429 - val_loss: 0.2616 - val_mean_absolute_error: 0.2616\n",
      "\n",
      "Epoch 00234: val_loss did not improve\n",
      "Epoch 235/250\n",
      "134888/134888 [==============================] - 1s 11us/step - loss: 0.2426 - mean_absolute_error: 0.2426 - val_loss: 0.2636 - val_mean_absolute_error: 0.2636\n",
      "\n",
      "Epoch 00235: val_loss did not improve\n",
      "Epoch 236/250\n",
      "134888/134888 [==============================] - 1s 11us/step - loss: 0.2438 - mean_absolute_error: 0.2438 - val_loss: 0.2622 - val_mean_absolute_error: 0.2622\n",
      "\n",
      "Epoch 00236: val_loss did not improve\n",
      "Epoch 237/250\n",
      "134888/134888 [==============================] - 1s 11us/step - loss: 0.2434 - mean_absolute_error: 0.2434 - val_loss: 0.2615 - val_mean_absolute_error: 0.2615\n",
      "\n",
      "Epoch 00237: val_loss did not improve\n",
      "Epoch 238/250\n",
      "134888/134888 [==============================] - 1s 11us/step - loss: 0.2432 - mean_absolute_error: 0.2432 - val_loss: 0.2622 - val_mean_absolute_error: 0.2622\n",
      "\n",
      "Epoch 00238: val_loss did not improve\n",
      "Epoch 239/250\n",
      "134888/134888 [==============================] - 1s 11us/step - loss: 0.2437 - mean_absolute_error: 0.2437 - val_loss: 0.2610 - val_mean_absolute_error: 0.2610\n",
      "\n",
      "Epoch 00239: val_loss did not improve\n",
      "Epoch 240/250\n",
      "134888/134888 [==============================] - 1s 11us/step - loss: 0.2432 - mean_absolute_error: 0.2432 - val_loss: 0.2615 - val_mean_absolute_error: 0.2615\n",
      "\n",
      "Epoch 00240: val_loss did not improve\n",
      "Epoch 241/250\n",
      "134888/134888 [==============================] - 1s 11us/step - loss: 0.2421 - mean_absolute_error: 0.2421 - val_loss: 0.2611 - val_mean_absolute_error: 0.2611\n",
      "\n",
      "Epoch 00241: val_loss did not improve\n",
      "Epoch 242/250\n",
      "134888/134888 [==============================] - 1s 11us/step - loss: 0.2429 - mean_absolute_error: 0.2429 - val_loss: 0.2605 - val_mean_absolute_error: 0.2605\n",
      "\n",
      "Epoch 00242: val_loss did not improve\n",
      "Epoch 243/250\n",
      "134888/134888 [==============================] - 1s 11us/step - loss: 0.2429 - mean_absolute_error: 0.2429 - val_loss: 0.2615 - val_mean_absolute_error: 0.2615\n",
      "\n",
      "Epoch 00243: val_loss did not improve\n",
      "Epoch 244/250\n",
      "134888/134888 [==============================] - 1s 11us/step - loss: 0.2428 - mean_absolute_error: 0.2428 - val_loss: 0.2613 - val_mean_absolute_error: 0.2613\n",
      "\n",
      "Epoch 00244: val_loss did not improve\n",
      "Epoch 245/250\n",
      "134888/134888 [==============================] - 1s 11us/step - loss: 0.2430 - mean_absolute_error: 0.2430 - val_loss: 0.2633 - val_mean_absolute_error: 0.2633\n",
      "\n",
      "Epoch 00245: val_loss did not improve\n",
      "Epoch 246/250\n",
      "134888/134888 [==============================] - 1s 11us/step - loss: 0.2432 - mean_absolute_error: 0.2432 - val_loss: 0.2626 - val_mean_absolute_error: 0.2626\n",
      "\n",
      "Epoch 00246: val_loss did not improve\n",
      "Epoch 247/250\n",
      "134888/134888 [==============================] - 1s 11us/step - loss: 0.2433 - mean_absolute_error: 0.2433 - val_loss: 0.2632 - val_mean_absolute_error: 0.2632\n",
      "\n",
      "Epoch 00247: val_loss did not improve\n",
      "Epoch 248/250\n",
      "134888/134888 [==============================] - 1s 11us/step - loss: 0.2423 - mean_absolute_error: 0.2423 - val_loss: 0.2613 - val_mean_absolute_error: 0.2613\n",
      "\n",
      "Epoch 00248: val_loss did not improve\n",
      "Epoch 249/250\n",
      "134888/134888 [==============================] - 1s 11us/step - loss: 0.2437 - mean_absolute_error: 0.2437 - val_loss: 0.2613 - val_mean_absolute_error: 0.2613\n",
      "\n",
      "Epoch 00249: val_loss did not improve\n",
      "Epoch 250/250\n",
      "134888/134888 [==============================] - 1s 11us/step - loss: 0.2431 - mean_absolute_error: 0.2431 - val_loss: 0.2628 - val_mean_absolute_error: 0.2628\n",
      "\n",
      "Epoch 00250: val_loss did not improve\n"
     ]
    }
   ],
   "source": [
    "# earlystop = EarlyStopping(monitor='val_loss', patience=30, verbose=1)\n",
    "model_path = os.path.join(save_dir, model_name)\n",
    "checkpoint = ModelCheckpoint(model_path, monitor='val_loss', verbose=1, save_best_only=True)\n",
    "model_history = nn_model.fit(x_train_cl, y_train_cl, validation_data=(x_val_cl, y_val_cl), batch_size=1000, epochs=250, shuffle=True,\n",
    "                            callbacks=[checkpoint])"
   ]
  },
  {
   "cell_type": "code",
   "execution_count": 194,
   "metadata": {
    "scrolled": false
   },
   "outputs": [
    {
     "data": {
      "image/png": "[encoded data removed]",
      "text/plain": [
       "<Figure size 432x288 with 1 Axes>"
      ]
     },
     "metadata": {},
     "output_type": "display_data"
    }
   ],
   "source": [
    "training_loss = model_history.history['loss']\n",
    "val_loss = model_history.history['val_loss']\n",
    "\n",
    "plt.plot(training_loss, label=\"training_loss\")\n",
    "plt.plot(val_loss, label=\"validation_loss\")\n",
    "plt.xlabel(\"Epochs\")\n",
    "plt.ylabel(\"Loss\")\n",
    "plt.title(\"Learning Curve\")\n",
    "plt.legend(loc='best')\n",
    "plt.show()"
   ]
  },
  {
   "cell_type": "code",
   "execution_count": 195,
   "metadata": {
    "scrolled": false
   },
   "outputs": [],
   "source": [
    "from keras.models import load_model\n",
    "best_nn_model = load_model('../checkpoints/0906_16_30_00.h5')"
   ]
  },
  {
   "cell_type": "code",
   "execution_count": 30,
   "metadata": {
    "scrolled": false
   },
   "outputs": [],
   "source": [
    "# y_pred_nn_best = ss_y.inverse_transform(best_nn_model.predict(x_ensem))\n",
    "y_pred_lassocv = ss_y.inverse_transform(lassocv.predict(x_ensem))\n",
    "y_pred_ridge = ss_y.inverse_transform(ridge.predict(x_ensem))\n",
    "y_pred_lassolarscv = ss_y.inverse_transform(lassolarscv.predict(x_ensem))\n",
    "y_pred_elasticnetcv = ss_y.inverse_transform(elasticnetcv.predict(x_ensem))\n",
    "# y_pred_RF = ss_y.inverse_transform(RF.predict(x_ensem))\n",
    "# y_pred_xgb = ss_y.inverse_transform(xgb_model.predict(x_ensem))\n",
    "# y_pred_GBoost = ss_y.inverse_transform(GBoost.predict(x_ensem))\n",
    "y_pred_LightGB = ss_y.inverse_transform(LightGB.predict(x_ensem))"
   ]
  },
  {
   "cell_type": "code",
   "execution_count": 197,
   "metadata": {
    "scrolled": false
   },
   "outputs": [
    {
     "data": {
      "text/plain": [
       "(42153, 1)"
      ]
     },
     "execution_count": 197,
     "metadata": {},
     "output_type": "execute_result"
    }
   ],
   "source": [
    "y_pred_nn_best.shape"
   ]
  },
  {
   "cell_type": "code",
   "execution_count": 35,
   "metadata": {},
   "outputs": [],
   "source": [
    "y_pred_lassocv = inv_boxcox1p(ss_y.inverse_transform(lassocv.predict(x_ensem)), lam)\n",
    "y_pred_ridge = inv_boxcox1p(ss_y.inverse_transform(ridge.predict(x_ensem)), lam)\n",
    "y_pred_lassolarscv = inv_boxcox1p(ss_y.inverse_transform(lassolarscv.predict(x_ensem)), lam)\n",
    "y_pred_elasticnetcv = inv_boxcox1p(ss_y.inverse_transform(elasticnetcv.predict(x_ensem)), lam)\n",
    "y_pred_LightGB = inv_boxcox1p(ss_y.inverse_transform(LightGB.predict(x_ensem)), lam)"
   ]
  },
  {
   "cell_type": "code",
   "execution_count": 37,
   "metadata": {
    "scrolled": false
   },
   "outputs": [],
   "source": [
    "# nn_mae = mean_absolute_error(y_pred_nn_best, ss_y.inverse_transform(y_ensem))\n",
    "# lassocv_mae = mean_absolute_error(y_pred_lassocv, inv_boxcox1p(ss_y.inverse_transform(y_ensem), lam))\n",
    "# ridge_mae = mean_absolute_error(y_pred_ridge, inv_boxcox1p(ss_y.inverse_transform(y_ensem), lam))\n",
    "# lassolarscv_mae = mean_absolute_error(y_pred_lassolarscv, inv_boxcox1p(ss_y.inverse_transform(y_ensem), lam))\n",
    "# elasticnetcv_mae = mean_absolute_error(y_pred_elasticnetcv, inv_boxcox1p(ss_y.inverse_transform(y_ensem), lam))\n",
    "# RF_mae = mean_absolute_error(y_pred_RF, ss_y.inverse_transform(y_ensem))\n",
    "# xgb_mae = mean_absolute_error(y_pred_xgb, ss_y.inverse_transform(y_ensem))\n",
    "# GBoost_mae = mean_absolute_error(y_pred_GBoost, ss_y.inverse_transform(y_ensem))\n",
    "LightGB_mae = mean_absolute_error(y_pred_LightGB, inv_boxcox1p(ss_y.inverse_transform(y_ensem), lam))"
   ]
  },
  {
   "cell_type": "code",
   "execution_count": 38,
   "metadata": {
    "scrolled": false
   },
   "outputs": [
    {
     "name": "stdout",
     "output_type": "stream",
     "text": [
      "1720.9396002264416\n"
     ]
    }
   ],
   "source": [
    "# print(nn_mae)\n",
    "# print(lassocv_mae)\n",
    "# print(ridge_mae)\n",
    "# print(lassolarscv_mae)\n",
    "# print(elasticnetcv_mae)\n",
    "# print(RF_mae)\n",
    "# print(xgb_mae)\n",
    "# print(GBoost_mae)\n",
    "print(LightGB_mae)"
   ]
  },
  {
   "cell_type": "code",
   "execution_count": 96,
   "metadata": {
    "scrolled": false
   },
   "outputs": [
    {
     "name": "stdout",
     "output_type": "stream",
     "text": [
      "1758.8965829328833\n",
      "2221.1157004603174\n",
      "2221.9366360449535\n",
      "2221.799758072731\n",
      "2221.4018251572406\n",
      "1955.2883733944363\n",
      "1945.0501246189847\n",
      "1727.2363771008695\n"
     ]
    }
   ],
   "source": [
    "print(nn_mae)\n",
    "print(lassocv_mae)\n",
    "print(ridge_mae)\n",
    "print(lassolarscv_mae)\n",
    "print(elasticnetcv_mae)\n",
    "print(RF_mae)\n",
    "print(xgb_mae)\n",
    "print(GBoost_mae)\n",
    "print(LightGB_mae)"
   ]
  },
  {
   "cell_type": "markdown",
   "metadata": {},
   "source": [
    "### ensmble"
   ]
  },
  {
   "cell_type": "code",
   "execution_count": 97,
   "metadata": {
    "scrolled": false
   },
   "outputs": [],
   "source": [
    "ensemble_df = pd.DataFrame({'lassocv':y_pred_lassocv, 'ridge':y_pred_ridge.reshape(-1),\n",
    "                           'lassolarscv':y_pred_lassolarscv, 'elasticnetcv':y_pred_elasticnetcv, 'xgb':y_pred_xgb, \n",
    "                           'GBoost':y_pred_GBoost, 'LightGB':y_pred_LightGB, 'dnn':y_pred_nn_best.reshape(-1)})"
   ]
  },
  {
   "cell_type": "code",
   "execution_count": 98,
   "metadata": {
    "scrolled": false
   },
   "outputs": [],
   "source": [
    "ensemble_df = ensemble_df[['lassocv', 'ridge', 'lassolarscv', 'elasticnetcv', 'xgb', 'GBoost', 'LightGB', 'dnn']]"
   ]
  },
  {
   "cell_type": "code",
   "execution_count": null,
   "metadata": {
    "scrolled": false
   },
   "outputs": [],
   "source": [
    "# ensemble_df.iloc[ensemble_df[ensemble_df['result'] < 0].index, -1] = 0"
   ]
  },
  {
   "cell_type": "code",
   "execution_count": null,
   "metadata": {
    "scrolled": false
   },
   "outputs": [],
   "source": [
    "# ensemble_df.iloc[ensemble_df[ensemble_df['dnn'] < 0].index, 8] = 0"
   ]
  },
  {
   "cell_type": "code",
   "execution_count": null,
   "metadata": {
    "scrolled": false
   },
   "outputs": [],
   "source": [
    "# ensemble_df['maen'] = (ensemble_df['lassocv'] + ensemble_df['ridge'] + ensemble_df['lassolarscv'] + ensemble_df['elasticnetcv'] + ensemble_df['xgb'] + ensemble_df['GBoost'] + ensemble_df['LightGB'] + ensemble_df['dnn']) / 8"
   ]
  },
  {
   "cell_type": "code",
   "execution_count": 39,
   "metadata": {
    "scrolled": false
   },
   "outputs": [],
   "source": [
    "# y_nn = ss_y.inverse_transform(best_nn_model.predict(test))\n",
    "# y_lassocv = ss_y.inverse_transform(lassocv.predict(test))\n",
    "# y_ridge = ss_y.inverse_transform(ridge.predict(test))\n",
    "# y_lassolarscv = ss_y.inverse_transform(lassolarscv.predict(test))\n",
    "# y_elasticnetcv = ss_y.inverse_transform(elasticnetcv.predict(test))\n",
    "# y_RF = ss_y.inverse_transform(RF.predict(test))\n",
    "# y_xgb = ss_y.inverse_transform(xgb_model.predict(test))\n",
    "# y_GBoost = ss_y.inverse_transform(GBoost.predict(test))\n",
    "y_LightGB = ss_y.inverse_transform(LightGB.predict(test))"
   ]
  },
  {
   "cell_type": "code",
   "execution_count": 40,
   "metadata": {},
   "outputs": [],
   "source": [
    "y_LightGB = inv_boxcox1p(y_LightGB, lam)"
   ]
  },
  {
   "cell_type": "code",
   "execution_count": 42,
   "metadata": {},
   "outputs": [
    {
     "data": {
      "text/plain": [
       "0.0007158931464940282"
      ]
     },
     "execution_count": 42,
     "metadata": {},
     "output_type": "execute_result"
    }
   ],
   "source": [
    "y_LightGB[7]"
   ]
  },
  {
   "cell_type": "code",
   "execution_count": 201,
   "metadata": {
    "scrolled": false
   },
   "outputs": [],
   "source": [
    "test_ensem_df = pd.DataFrame({'lassocv':y_lassocv, 'ridge':y_ridge.reshape(-1),\n",
    "                           'lassolarscv':y_lassolarscv, 'elasticnetcv':y_elasticnetcv,\n",
    "                              'RF':y_RF, 'xgb':y_xgb, \n",
    "                           'GBoost':y_GBoost, 'LightGB':y_LightGB, 'dnn':y_nn.reshape(-1)})"
   ]
  },
  {
   "cell_type": "code",
   "execution_count": 202,
   "metadata": {
    "scrolled": false
   },
   "outputs": [],
   "source": [
    "test_ensem_df = test_ensem_df[['lassocv', 'ridge', 'lassolarscv', 'elasticnetcv','RF', 'xgb', 'GBoost', 'LightGB', 'dnn']]"
   ]
  },
  {
   "cell_type": "code",
   "execution_count": 203,
   "metadata": {
    "scrolled": false
   },
   "outputs": [
    {
     "data": {
      "text/html": [
       "<div>\n",
       "<style scoped>\n",
       "    .dataframe tbody tr th:only-of-type {\n",
       "        vertical-align: middle;\n",
       "    }\n",
       "\n",
       "    .dataframe tbody tr th {\n",
       "        vertical-align: top;\n",
       "    }\n",
       "\n",
       "    .dataframe thead th {\n",
       "        text-align: right;\n",
       "    }\n",
       "</style>\n",
       "<table border=\"1\" class=\"dataframe\">\n",
       "  <thead>\n",
       "    <tr style=\"text-align: right;\">\n",
       "      <th></th>\n",
       "      <th>lassocv</th>\n",
       "      <th>ridge</th>\n",
       "      <th>lassolarscv</th>\n",
       "      <th>elasticnetcv</th>\n",
       "      <th>RF</th>\n",
       "      <th>xgb</th>\n",
       "      <th>GBoost</th>\n",
       "      <th>LightGB</th>\n",
       "      <th>dnn</th>\n",
       "    </tr>\n",
       "  </thead>\n",
       "  <tbody>\n",
       "    <tr>\n",
       "      <th>0</th>\n",
       "      <td>3531.667618</td>\n",
       "      <td>3513.489200</td>\n",
       "      <td>3531.840826</td>\n",
       "      <td>3534.351792</td>\n",
       "      <td>2833.732536</td>\n",
       "      <td>3013.420898</td>\n",
       "      <td>3291.751855</td>\n",
       "      <td>3345.705651</td>\n",
       "      <td>3293.606689</td>\n",
       "    </tr>\n",
       "    <tr>\n",
       "      <th>1</th>\n",
       "      <td>818.389399</td>\n",
       "      <td>809.127565</td>\n",
       "      <td>817.831109</td>\n",
       "      <td>817.687372</td>\n",
       "      <td>1736.496291</td>\n",
       "      <td>1445.992188</td>\n",
       "      <td>1276.302068</td>\n",
       "      <td>1825.247833</td>\n",
       "      <td>1718.731934</td>\n",
       "    </tr>\n",
       "    <tr>\n",
       "      <th>2</th>\n",
       "      <td>2382.814557</td>\n",
       "      <td>2271.731998</td>\n",
       "      <td>2385.830877</td>\n",
       "      <td>2386.147712</td>\n",
       "      <td>2649.787523</td>\n",
       "      <td>2204.367432</td>\n",
       "      <td>2472.510028</td>\n",
       "      <td>3090.618737</td>\n",
       "      <td>2946.410645</td>\n",
       "    </tr>\n",
       "    <tr>\n",
       "      <th>3</th>\n",
       "      <td>5963.928844</td>\n",
       "      <td>5928.393389</td>\n",
       "      <td>5966.488320</td>\n",
       "      <td>5968.001797</td>\n",
       "      <td>5985.867358</td>\n",
       "      <td>5837.438965</td>\n",
       "      <td>6476.006553</td>\n",
       "      <td>6107.234159</td>\n",
       "      <td>6145.209961</td>\n",
       "    </tr>\n",
       "    <tr>\n",
       "      <th>4</th>\n",
       "      <td>2826.166149</td>\n",
       "      <td>2842.003233</td>\n",
       "      <td>2826.011714</td>\n",
       "      <td>2826.310676</td>\n",
       "      <td>2782.799134</td>\n",
       "      <td>2792.700439</td>\n",
       "      <td>2701.583471</td>\n",
       "      <td>3210.162757</td>\n",
       "      <td>3083.473877</td>\n",
       "    </tr>\n",
       "    <tr>\n",
       "      <th>5</th>\n",
       "      <td>9148.240864</td>\n",
       "      <td>9148.239818</td>\n",
       "      <td>9149.444198</td>\n",
       "      <td>9153.602828</td>\n",
       "      <td>8663.425026</td>\n",
       "      <td>8821.465820</td>\n",
       "      <td>9212.564068</td>\n",
       "      <td>9567.385732</td>\n",
       "      <td>9676.754883</td>\n",
       "    </tr>\n",
       "    <tr>\n",
       "      <th>6</th>\n",
       "      <td>18565.451803</td>\n",
       "      <td>18632.600067</td>\n",
       "      <td>18563.946979</td>\n",
       "      <td>18553.146930</td>\n",
       "      <td>19491.133116</td>\n",
       "      <td>22321.062500</td>\n",
       "      <td>22993.179765</td>\n",
       "      <td>21884.805256</td>\n",
       "      <td>21438.007812</td>\n",
       "    </tr>\n",
       "    <tr>\n",
       "      <th>7</th>\n",
       "      <td>1251.266440</td>\n",
       "      <td>1344.107972</td>\n",
       "      <td>1249.822774</td>\n",
       "      <td>1249.957167</td>\n",
       "      <td>0.123279</td>\n",
       "      <td>62.028328</td>\n",
       "      <td>76.871529</td>\n",
       "      <td>-1.805535</td>\n",
       "      <td>228.807144</td>\n",
       "    </tr>\n",
       "    <tr>\n",
       "      <th>8</th>\n",
       "      <td>3546.167638</td>\n",
       "      <td>3581.159025</td>\n",
       "      <td>3544.828725</td>\n",
       "      <td>3551.373003</td>\n",
       "      <td>3701.630489</td>\n",
       "      <td>3696.382812</td>\n",
       "      <td>4197.509385</td>\n",
       "      <td>4060.611661</td>\n",
       "      <td>3915.303955</td>\n",
       "    </tr>\n",
       "    <tr>\n",
       "      <th>9</th>\n",
       "      <td>8075.235935</td>\n",
       "      <td>8076.280311</td>\n",
       "      <td>8076.892534</td>\n",
       "      <td>8081.925961</td>\n",
       "      <td>8115.129925</td>\n",
       "      <td>7860.289551</td>\n",
       "      <td>8769.201570</td>\n",
       "      <td>9040.246590</td>\n",
       "      <td>9122.162109</td>\n",
       "    </tr>\n",
       "    <tr>\n",
       "      <th>10</th>\n",
       "      <td>1322.347632</td>\n",
       "      <td>1315.672352</td>\n",
       "      <td>1321.408847</td>\n",
       "      <td>1320.956078</td>\n",
       "      <td>1486.242292</td>\n",
       "      <td>1520.870850</td>\n",
       "      <td>1631.647754</td>\n",
       "      <td>1652.429914</td>\n",
       "      <td>1590.300781</td>\n",
       "    </tr>\n",
       "    <tr>\n",
       "      <th>11</th>\n",
       "      <td>6783.085366</td>\n",
       "      <td>6738.027732</td>\n",
       "      <td>6786.181622</td>\n",
       "      <td>6787.227010</td>\n",
       "      <td>7318.252946</td>\n",
       "      <td>7069.304688</td>\n",
       "      <td>7569.875213</td>\n",
       "      <td>8047.768727</td>\n",
       "      <td>7192.914062</td>\n",
       "    </tr>\n",
       "    <tr>\n",
       "      <th>12</th>\n",
       "      <td>902.827186</td>\n",
       "      <td>923.501924</td>\n",
       "      <td>901.714756</td>\n",
       "      <td>900.609380</td>\n",
       "      <td>0.123279</td>\n",
       "      <td>33.885262</td>\n",
       "      <td>-15.346740</td>\n",
       "      <td>1.708321</td>\n",
       "      <td>97.691414</td>\n",
       "    </tr>\n",
       "    <tr>\n",
       "      <th>13</th>\n",
       "      <td>980.745593</td>\n",
       "      <td>989.653394</td>\n",
       "      <td>980.535550</td>\n",
       "      <td>980.331220</td>\n",
       "      <td>1330.306497</td>\n",
       "      <td>1236.270508</td>\n",
       "      <td>1307.326481</td>\n",
       "      <td>1308.683167</td>\n",
       "      <td>1222.563232</td>\n",
       "    </tr>\n",
       "    <tr>\n",
       "      <th>14</th>\n",
       "      <td>27604.022218</td>\n",
       "      <td>27701.405938</td>\n",
       "      <td>27600.507818</td>\n",
       "      <td>27593.988227</td>\n",
       "      <td>30709.486839</td>\n",
       "      <td>35567.183594</td>\n",
       "      <td>33508.808744</td>\n",
       "      <td>36660.214729</td>\n",
       "      <td>33379.187500</td>\n",
       "    </tr>\n",
       "    <tr>\n",
       "      <th>15</th>\n",
       "      <td>5236.771916</td>\n",
       "      <td>5229.938830</td>\n",
       "      <td>5240.411247</td>\n",
       "      <td>5236.218320</td>\n",
       "      <td>4998.913384</td>\n",
       "      <td>4892.751953</td>\n",
       "      <td>4786.610147</td>\n",
       "      <td>5636.353604</td>\n",
       "      <td>5721.780273</td>\n",
       "    </tr>\n",
       "    <tr>\n",
       "      <th>16</th>\n",
       "      <td>9022.000387</td>\n",
       "      <td>9052.146454</td>\n",
       "      <td>9009.550486</td>\n",
       "      <td>9020.887996</td>\n",
       "      <td>8869.130785</td>\n",
       "      <td>9678.168945</td>\n",
       "      <td>9273.666412</td>\n",
       "      <td>10191.442742</td>\n",
       "      <td>10407.495117</td>\n",
       "    </tr>\n",
       "    <tr>\n",
       "      <th>17</th>\n",
       "      <td>1686.246366</td>\n",
       "      <td>1595.620659</td>\n",
       "      <td>1684.935739</td>\n",
       "      <td>1687.246951</td>\n",
       "      <td>2293.677055</td>\n",
       "      <td>1931.033691</td>\n",
       "      <td>1973.054997</td>\n",
       "      <td>2615.451860</td>\n",
       "      <td>1880.921143</td>\n",
       "    </tr>\n",
       "    <tr>\n",
       "      <th>18</th>\n",
       "      <td>2766.995090</td>\n",
       "      <td>2797.505011</td>\n",
       "      <td>2766.391083</td>\n",
       "      <td>2769.968494</td>\n",
       "      <td>2636.361376</td>\n",
       "      <td>2847.324707</td>\n",
       "      <td>3065.163372</td>\n",
       "      <td>3113.275493</td>\n",
       "      <td>3016.729980</td>\n",
       "    </tr>\n",
       "    <tr>\n",
       "      <th>19</th>\n",
       "      <td>2160.276225</td>\n",
       "      <td>2195.803772</td>\n",
       "      <td>2162.302005</td>\n",
       "      <td>2160.996955</td>\n",
       "      <td>1902.596734</td>\n",
       "      <td>2036.100342</td>\n",
       "      <td>2077.665299</td>\n",
       "      <td>2218.125563</td>\n",
       "      <td>2189.098145</td>\n",
       "    </tr>\n",
       "    <tr>\n",
       "      <th>20</th>\n",
       "      <td>4407.210737</td>\n",
       "      <td>4471.966486</td>\n",
       "      <td>4406.340262</td>\n",
       "      <td>4408.424702</td>\n",
       "      <td>4478.159687</td>\n",
       "      <td>4681.732910</td>\n",
       "      <td>4462.611516</td>\n",
       "      <td>5098.452511</td>\n",
       "      <td>5033.321777</td>\n",
       "    </tr>\n",
       "    <tr>\n",
       "      <th>21</th>\n",
       "      <td>3107.445612</td>\n",
       "      <td>3115.354051</td>\n",
       "      <td>3106.510055</td>\n",
       "      <td>3104.382967</td>\n",
       "      <td>4405.111972</td>\n",
       "      <td>4013.025635</td>\n",
       "      <td>3866.945426</td>\n",
       "      <td>5114.714109</td>\n",
       "      <td>5359.573730</td>\n",
       "    </tr>\n",
       "    <tr>\n",
       "      <th>22</th>\n",
       "      <td>2807.573532</td>\n",
       "      <td>2867.613720</td>\n",
       "      <td>2806.108326</td>\n",
       "      <td>2807.229564</td>\n",
       "      <td>2836.642008</td>\n",
       "      <td>2903.073242</td>\n",
       "      <td>2825.380629</td>\n",
       "      <td>3200.240972</td>\n",
       "      <td>3171.068604</td>\n",
       "    </tr>\n",
       "    <tr>\n",
       "      <th>23</th>\n",
       "      <td>7008.813622</td>\n",
       "      <td>7015.184182</td>\n",
       "      <td>7007.624501</td>\n",
       "      <td>7010.220806</td>\n",
       "      <td>6862.516876</td>\n",
       "      <td>6673.602539</td>\n",
       "      <td>6799.431240</td>\n",
       "      <td>7275.171534</td>\n",
       "      <td>7291.336914</td>\n",
       "    </tr>\n",
       "    <tr>\n",
       "      <th>24</th>\n",
       "      <td>641.858143</td>\n",
       "      <td>648.981007</td>\n",
       "      <td>642.093616</td>\n",
       "      <td>645.951438</td>\n",
       "      <td>404.334267</td>\n",
       "      <td>405.876465</td>\n",
       "      <td>364.942457</td>\n",
       "      <td>220.189278</td>\n",
       "      <td>30.573740</td>\n",
       "    </tr>\n",
       "    <tr>\n",
       "      <th>25</th>\n",
       "      <td>833.593389</td>\n",
       "      <td>797.777402</td>\n",
       "      <td>835.085645</td>\n",
       "      <td>842.241001</td>\n",
       "      <td>8.020833</td>\n",
       "      <td>-85.014153</td>\n",
       "      <td>-76.439957</td>\n",
       "      <td>-4.029012</td>\n",
       "      <td>187.528336</td>\n",
       "    </tr>\n",
       "    <tr>\n",
       "      <th>26</th>\n",
       "      <td>1609.663257</td>\n",
       "      <td>1664.348578</td>\n",
       "      <td>1608.417321</td>\n",
       "      <td>1610.217062</td>\n",
       "      <td>1408.385246</td>\n",
       "      <td>1316.195068</td>\n",
       "      <td>1255.833649</td>\n",
       "      <td>1403.155028</td>\n",
       "      <td>1376.424316</td>\n",
       "    </tr>\n",
       "    <tr>\n",
       "      <th>27</th>\n",
       "      <td>244.322569</td>\n",
       "      <td>225.459346</td>\n",
       "      <td>244.009008</td>\n",
       "      <td>244.480816</td>\n",
       "      <td>416.952943</td>\n",
       "      <td>635.153809</td>\n",
       "      <td>464.463179</td>\n",
       "      <td>179.631535</td>\n",
       "      <td>69.490242</td>\n",
       "    </tr>\n",
       "    <tr>\n",
       "      <th>28</th>\n",
       "      <td>250.143984</td>\n",
       "      <td>236.504683</td>\n",
       "      <td>250.161107</td>\n",
       "      <td>251.162463</td>\n",
       "      <td>404.334267</td>\n",
       "      <td>307.509277</td>\n",
       "      <td>314.068295</td>\n",
       "      <td>223.260621</td>\n",
       "      <td>12.213388</td>\n",
       "    </tr>\n",
       "    <tr>\n",
       "      <th>29</th>\n",
       "      <td>2967.426086</td>\n",
       "      <td>2978.826340</td>\n",
       "      <td>2967.286152</td>\n",
       "      <td>2965.241930</td>\n",
       "      <td>3174.331528</td>\n",
       "      <td>3055.601562</td>\n",
       "      <td>3082.187832</td>\n",
       "      <td>3592.984251</td>\n",
       "      <td>3451.736816</td>\n",
       "    </tr>\n",
       "    <tr>\n",
       "      <th>...</th>\n",
       "      <td>...</td>\n",
       "      <td>...</td>\n",
       "      <td>...</td>\n",
       "      <td>...</td>\n",
       "      <td>...</td>\n",
       "      <td>...</td>\n",
       "      <td>...</td>\n",
       "      <td>...</td>\n",
       "      <td>...</td>\n",
       "    </tr>\n",
       "    <tr>\n",
       "      <th>140480</th>\n",
       "      <td>3061.024918</td>\n",
       "      <td>3069.638571</td>\n",
       "      <td>3063.403143</td>\n",
       "      <td>3067.432769</td>\n",
       "      <td>1.209148</td>\n",
       "      <td>116.021492</td>\n",
       "      <td>89.047040</td>\n",
       "      <td>90.426273</td>\n",
       "      <td>211.347672</td>\n",
       "    </tr>\n",
       "    <tr>\n",
       "      <th>140481</th>\n",
       "      <td>4561.854701</td>\n",
       "      <td>4601.971608</td>\n",
       "      <td>4561.483237</td>\n",
       "      <td>4562.602497</td>\n",
       "      <td>4439.093269</td>\n",
       "      <td>4739.549316</td>\n",
       "      <td>4719.947459</td>\n",
       "      <td>5049.093501</td>\n",
       "      <td>4879.020508</td>\n",
       "    </tr>\n",
       "    <tr>\n",
       "      <th>140482</th>\n",
       "      <td>850.623507</td>\n",
       "      <td>839.520690</td>\n",
       "      <td>850.760613</td>\n",
       "      <td>852.963724</td>\n",
       "      <td>1848.330173</td>\n",
       "      <td>1506.156494</td>\n",
       "      <td>1497.751623</td>\n",
       "      <td>1982.279435</td>\n",
       "      <td>1980.568604</td>\n",
       "    </tr>\n",
       "    <tr>\n",
       "      <th>140483</th>\n",
       "      <td>5071.217539</td>\n",
       "      <td>5064.535828</td>\n",
       "      <td>5071.544736</td>\n",
       "      <td>5074.466548</td>\n",
       "      <td>5780.458651</td>\n",
       "      <td>5360.305664</td>\n",
       "      <td>5743.151885</td>\n",
       "      <td>6109.431660</td>\n",
       "      <td>6603.919922</td>\n",
       "    </tr>\n",
       "    <tr>\n",
       "      <th>140484</th>\n",
       "      <td>1424.594052</td>\n",
       "      <td>1394.377511</td>\n",
       "      <td>1423.884644</td>\n",
       "      <td>1423.857050</td>\n",
       "      <td>1803.985903</td>\n",
       "      <td>1645.317383</td>\n",
       "      <td>1693.457932</td>\n",
       "      <td>1767.711390</td>\n",
       "      <td>1750.469238</td>\n",
       "    </tr>\n",
       "    <tr>\n",
       "      <th>140485</th>\n",
       "      <td>13994.207652</td>\n",
       "      <td>14083.448613</td>\n",
       "      <td>13991.981486</td>\n",
       "      <td>13988.048987</td>\n",
       "      <td>13604.743480</td>\n",
       "      <td>14981.772461</td>\n",
       "      <td>15624.095342</td>\n",
       "      <td>16963.559610</td>\n",
       "      <td>15429.802734</td>\n",
       "    </tr>\n",
       "    <tr>\n",
       "      <th>140486</th>\n",
       "      <td>16699.263668</td>\n",
       "      <td>16709.586709</td>\n",
       "      <td>16698.439608</td>\n",
       "      <td>16687.953132</td>\n",
       "      <td>15988.599203</td>\n",
       "      <td>12675.193359</td>\n",
       "      <td>16081.659934</td>\n",
       "      <td>18160.625920</td>\n",
       "      <td>18737.490234</td>\n",
       "    </tr>\n",
       "    <tr>\n",
       "      <th>140487</th>\n",
       "      <td>29.134281</td>\n",
       "      <td>78.982786</td>\n",
       "      <td>28.828739</td>\n",
       "      <td>29.969691</td>\n",
       "      <td>405.581094</td>\n",
       "      <td>386.491211</td>\n",
       "      <td>381.745286</td>\n",
       "      <td>222.115487</td>\n",
       "      <td>93.529793</td>\n",
       "    </tr>\n",
       "    <tr>\n",
       "      <th>140488</th>\n",
       "      <td>3621.079440</td>\n",
       "      <td>3648.900745</td>\n",
       "      <td>3620.839454</td>\n",
       "      <td>3622.372987</td>\n",
       "      <td>3581.527020</td>\n",
       "      <td>3810.669434</td>\n",
       "      <td>3789.592604</td>\n",
       "      <td>4030.703098</td>\n",
       "      <td>4016.583496</td>\n",
       "    </tr>\n",
       "    <tr>\n",
       "      <th>140489</th>\n",
       "      <td>2236.567594</td>\n",
       "      <td>2149.170274</td>\n",
       "      <td>2239.579299</td>\n",
       "      <td>2237.656480</td>\n",
       "      <td>2416.318275</td>\n",
       "      <td>1840.237061</td>\n",
       "      <td>1930.826161</td>\n",
       "      <td>2854.441901</td>\n",
       "      <td>2567.845703</td>\n",
       "    </tr>\n",
       "    <tr>\n",
       "      <th>140490</th>\n",
       "      <td>2510.607075</td>\n",
       "      <td>2479.601053</td>\n",
       "      <td>2510.438747</td>\n",
       "      <td>2509.204480</td>\n",
       "      <td>2805.802381</td>\n",
       "      <td>2535.262451</td>\n",
       "      <td>2707.088804</td>\n",
       "      <td>3154.286148</td>\n",
       "      <td>3055.071533</td>\n",
       "    </tr>\n",
       "    <tr>\n",
       "      <th>140491</th>\n",
       "      <td>1256.364415</td>\n",
       "      <td>1264.937804</td>\n",
       "      <td>1256.999808</td>\n",
       "      <td>1261.903518</td>\n",
       "      <td>2.873305</td>\n",
       "      <td>127.922859</td>\n",
       "      <td>227.164478</td>\n",
       "      <td>-3.781157</td>\n",
       "      <td>255.704117</td>\n",
       "    </tr>\n",
       "    <tr>\n",
       "      <th>140492</th>\n",
       "      <td>1962.544182</td>\n",
       "      <td>1924.770208</td>\n",
       "      <td>1963.744434</td>\n",
       "      <td>1962.252793</td>\n",
       "      <td>2004.178102</td>\n",
       "      <td>2212.740967</td>\n",
       "      <td>2539.161909</td>\n",
       "      <td>2342.793815</td>\n",
       "      <td>2302.782227</td>\n",
       "    </tr>\n",
       "    <tr>\n",
       "      <th>140493</th>\n",
       "      <td>1653.513035</td>\n",
       "      <td>1702.702401</td>\n",
       "      <td>1651.342015</td>\n",
       "      <td>1652.511155</td>\n",
       "      <td>2472.895526</td>\n",
       "      <td>1822.262451</td>\n",
       "      <td>1947.583014</td>\n",
       "      <td>2941.247579</td>\n",
       "      <td>2804.333252</td>\n",
       "    </tr>\n",
       "    <tr>\n",
       "      <th>140494</th>\n",
       "      <td>31070.678171</td>\n",
       "      <td>31042.407724</td>\n",
       "      <td>31070.362434</td>\n",
       "      <td>31049.313274</td>\n",
       "      <td>34967.501794</td>\n",
       "      <td>42162.921875</td>\n",
       "      <td>39912.539017</td>\n",
       "      <td>43486.717876</td>\n",
       "      <td>37611.480469</td>\n",
       "    </tr>\n",
       "    <tr>\n",
       "      <th>140495</th>\n",
       "      <td>2218.359701</td>\n",
       "      <td>2268.076250</td>\n",
       "      <td>2217.536092</td>\n",
       "      <td>2218.226886</td>\n",
       "      <td>2408.154329</td>\n",
       "      <td>2145.597412</td>\n",
       "      <td>2022.169817</td>\n",
       "      <td>2860.614353</td>\n",
       "      <td>2789.272461</td>\n",
       "    </tr>\n",
       "    <tr>\n",
       "      <th>140496</th>\n",
       "      <td>5544.053132</td>\n",
       "      <td>5538.261135</td>\n",
       "      <td>5544.683104</td>\n",
       "      <td>5544.871016</td>\n",
       "      <td>5023.175898</td>\n",
       "      <td>6153.907227</td>\n",
       "      <td>5266.817103</td>\n",
       "      <td>5584.949377</td>\n",
       "      <td>5705.166992</td>\n",
       "    </tr>\n",
       "    <tr>\n",
       "      <th>140497</th>\n",
       "      <td>1954.595444</td>\n",
       "      <td>1888.664402</td>\n",
       "      <td>1955.453250</td>\n",
       "      <td>1953.569649</td>\n",
       "      <td>2243.418832</td>\n",
       "      <td>1911.791504</td>\n",
       "      <td>2181.145838</td>\n",
       "      <td>2374.554151</td>\n",
       "      <td>2341.692383</td>\n",
       "    </tr>\n",
       "    <tr>\n",
       "      <th>140498</th>\n",
       "      <td>4230.449989</td>\n",
       "      <td>4263.243902</td>\n",
       "      <td>4230.581441</td>\n",
       "      <td>4231.971716</td>\n",
       "      <td>3175.461773</td>\n",
       "      <td>3251.505859</td>\n",
       "      <td>3519.557714</td>\n",
       "      <td>3375.202477</td>\n",
       "      <td>3440.205322</td>\n",
       "    </tr>\n",
       "    <tr>\n",
       "      <th>140499</th>\n",
       "      <td>3030.792563</td>\n",
       "      <td>3014.327809</td>\n",
       "      <td>3030.360970</td>\n",
       "      <td>3029.193646</td>\n",
       "      <td>9.287968</td>\n",
       "      <td>-144.200180</td>\n",
       "      <td>30.369846</td>\n",
       "      <td>-39.676951</td>\n",
       "      <td>228.104019</td>\n",
       "    </tr>\n",
       "    <tr>\n",
       "      <th>140500</th>\n",
       "      <td>8134.104047</td>\n",
       "      <td>8095.270339</td>\n",
       "      <td>8137.253098</td>\n",
       "      <td>8138.172249</td>\n",
       "      <td>8513.395846</td>\n",
       "      <td>8464.269531</td>\n",
       "      <td>8989.785647</td>\n",
       "      <td>8669.562030</td>\n",
       "      <td>8999.925781</td>\n",
       "    </tr>\n",
       "    <tr>\n",
       "      <th>140501</th>\n",
       "      <td>2248.744202</td>\n",
       "      <td>2219.038318</td>\n",
       "      <td>2249.114959</td>\n",
       "      <td>2248.855038</td>\n",
       "      <td>2835.381297</td>\n",
       "      <td>2827.896240</td>\n",
       "      <td>2545.401361</td>\n",
       "      <td>3179.078740</td>\n",
       "      <td>3190.493896</td>\n",
       "    </tr>\n",
       "    <tr>\n",
       "      <th>140502</th>\n",
       "      <td>62.882548</td>\n",
       "      <td>0.684523</td>\n",
       "      <td>63.037636</td>\n",
       "      <td>63.396557</td>\n",
       "      <td>3.529220</td>\n",
       "      <td>-74.228996</td>\n",
       "      <td>-22.888111</td>\n",
       "      <td>-0.427322</td>\n",
       "      <td>24.143076</td>\n",
       "    </tr>\n",
       "    <tr>\n",
       "      <th>140503</th>\n",
       "      <td>3637.604950</td>\n",
       "      <td>3638.035640</td>\n",
       "      <td>3637.217268</td>\n",
       "      <td>3637.814337</td>\n",
       "      <td>3680.947565</td>\n",
       "      <td>3514.168457</td>\n",
       "      <td>3462.474508</td>\n",
       "      <td>4198.409770</td>\n",
       "      <td>4199.815918</td>\n",
       "    </tr>\n",
       "    <tr>\n",
       "      <th>140504</th>\n",
       "      <td>2608.652793</td>\n",
       "      <td>2619.332885</td>\n",
       "      <td>2608.314363</td>\n",
       "      <td>2612.416527</td>\n",
       "      <td>2427.728760</td>\n",
       "      <td>2443.229980</td>\n",
       "      <td>2477.907149</td>\n",
       "      <td>2833.123511</td>\n",
       "      <td>2806.720215</td>\n",
       "    </tr>\n",
       "    <tr>\n",
       "      <th>140505</th>\n",
       "      <td>2458.524241</td>\n",
       "      <td>2431.162306</td>\n",
       "      <td>2459.398324</td>\n",
       "      <td>2460.172162</td>\n",
       "      <td>2377.565603</td>\n",
       "      <td>2475.369873</td>\n",
       "      <td>2463.407038</td>\n",
       "      <td>2727.958436</td>\n",
       "      <td>2663.536621</td>\n",
       "    </tr>\n",
       "    <tr>\n",
       "      <th>140506</th>\n",
       "      <td>9288.776635</td>\n",
       "      <td>9167.175514</td>\n",
       "      <td>9300.162480</td>\n",
       "      <td>9291.006884</td>\n",
       "      <td>10515.548866</td>\n",
       "      <td>8315.749023</td>\n",
       "      <td>10817.327069</td>\n",
       "      <td>10929.059248</td>\n",
       "      <td>12169.239258</td>\n",
       "    </tr>\n",
       "    <tr>\n",
       "      <th>140507</th>\n",
       "      <td>1632.764763</td>\n",
       "      <td>1658.031372</td>\n",
       "      <td>1632.955731</td>\n",
       "      <td>1631.700738</td>\n",
       "      <td>1441.395697</td>\n",
       "      <td>1532.712402</td>\n",
       "      <td>1496.650261</td>\n",
       "      <td>1703.280261</td>\n",
       "      <td>1589.447266</td>\n",
       "    </tr>\n",
       "    <tr>\n",
       "      <th>140508</th>\n",
       "      <td>2852.433379</td>\n",
       "      <td>2835.310933</td>\n",
       "      <td>2851.685060</td>\n",
       "      <td>2849.643327</td>\n",
       "      <td>3473.230272</td>\n",
       "      <td>3242.280273</td>\n",
       "      <td>3192.104284</td>\n",
       "      <td>3754.625996</td>\n",
       "      <td>3796.122314</td>\n",
       "    </tr>\n",
       "    <tr>\n",
       "      <th>140509</th>\n",
       "      <td>3999.763958</td>\n",
       "      <td>4100.033838</td>\n",
       "      <td>3998.192492</td>\n",
       "      <td>4003.312738</td>\n",
       "      <td>3329.939042</td>\n",
       "      <td>3829.955566</td>\n",
       "      <td>3653.240218</td>\n",
       "      <td>3858.690949</td>\n",
       "      <td>3809.457031</td>\n",
       "    </tr>\n",
       "  </tbody>\n",
       "</table>\n",
       "<p>140510 rows × 9 columns</p>\n",
       "</div>"
      ],
      "text/plain": [
       "             lassocv         ridge   lassolarscv  elasticnetcv            RF  \\\n",
       "0        3531.667618   3513.489200   3531.840826   3534.351792   2833.732536   \n",
       "1         818.389399    809.127565    817.831109    817.687372   1736.496291   \n",
       "2        2382.814557   2271.731998   2385.830877   2386.147712   2649.787523   \n",
       "3        5963.928844   5928.393389   5966.488320   5968.001797   5985.867358   \n",
       "4        2826.166149   2842.003233   2826.011714   2826.310676   2782.799134   \n",
       "5        9148.240864   9148.239818   9149.444198   9153.602828   8663.425026   \n",
       "6       18565.451803  18632.600067  18563.946979  18553.146930  19491.133116   \n",
       "7        1251.266440   1344.107972   1249.822774   1249.957167      0.123279   \n",
       "8        3546.167638   3581.159025   3544.828725   3551.373003   3701.630489   \n",
       "9        8075.235935   8076.280311   8076.892534   8081.925961   8115.129925   \n",
       "10       1322.347632   1315.672352   1321.408847   1320.956078   1486.242292   \n",
       "11       6783.085366   6738.027732   6786.181622   6787.227010   7318.252946   \n",
       "12        902.827186    923.501924    901.714756    900.609380      0.123279   \n",
       "13        980.745593    989.653394    980.535550    980.331220   1330.306497   \n",
       "14      27604.022218  27701.405938  27600.507818  27593.988227  30709.486839   \n",
       "15       5236.771916   5229.938830   5240.411247   5236.218320   4998.913384   \n",
       "16       9022.000387   9052.146454   9009.550486   9020.887996   8869.130785   \n",
       "17       1686.246366   1595.620659   1684.935739   1687.246951   2293.677055   \n",
       "18       2766.995090   2797.505011   2766.391083   2769.968494   2636.361376   \n",
       "19       2160.276225   2195.803772   2162.302005   2160.996955   1902.596734   \n",
       "20       4407.210737   4471.966486   4406.340262   4408.424702   4478.159687   \n",
       "21       3107.445612   3115.354051   3106.510055   3104.382967   4405.111972   \n",
       "22       2807.573532   2867.613720   2806.108326   2807.229564   2836.642008   \n",
       "23       7008.813622   7015.184182   7007.624501   7010.220806   6862.516876   \n",
       "24        641.858143    648.981007    642.093616    645.951438    404.334267   \n",
       "25        833.593389    797.777402    835.085645    842.241001      8.020833   \n",
       "26       1609.663257   1664.348578   1608.417321   1610.217062   1408.385246   \n",
       "27        244.322569    225.459346    244.009008    244.480816    416.952943   \n",
       "28        250.143984    236.504683    250.161107    251.162463    404.334267   \n",
       "29       2967.426086   2978.826340   2967.286152   2965.241930   3174.331528   \n",
       "...              ...           ...           ...           ...           ...   \n",
       "140480   3061.024918   3069.638571   3063.403143   3067.432769      1.209148   \n",
       "140481   4561.854701   4601.971608   4561.483237   4562.602497   4439.093269   \n",
       "140482    850.623507    839.520690    850.760613    852.963724   1848.330173   \n",
       "140483   5071.217539   5064.535828   5071.544736   5074.466548   5780.458651   \n",
       "140484   1424.594052   1394.377511   1423.884644   1423.857050   1803.985903   \n",
       "140485  13994.207652  14083.448613  13991.981486  13988.048987  13604.743480   \n",
       "140486  16699.263668  16709.586709  16698.439608  16687.953132  15988.599203   \n",
       "140487     29.134281     78.982786     28.828739     29.969691    405.581094   \n",
       "140488   3621.079440   3648.900745   3620.839454   3622.372987   3581.527020   \n",
       "140489   2236.567594   2149.170274   2239.579299   2237.656480   2416.318275   \n",
       "140490   2510.607075   2479.601053   2510.438747   2509.204480   2805.802381   \n",
       "140491   1256.364415   1264.937804   1256.999808   1261.903518      2.873305   \n",
       "140492   1962.544182   1924.770208   1963.744434   1962.252793   2004.178102   \n",
       "140493   1653.513035   1702.702401   1651.342015   1652.511155   2472.895526   \n",
       "140494  31070.678171  31042.407724  31070.362434  31049.313274  34967.501794   \n",
       "140495   2218.359701   2268.076250   2217.536092   2218.226886   2408.154329   \n",
       "140496   5544.053132   5538.261135   5544.683104   5544.871016   5023.175898   \n",
       "140497   1954.595444   1888.664402   1955.453250   1953.569649   2243.418832   \n",
       "140498   4230.449989   4263.243902   4230.581441   4231.971716   3175.461773   \n",
       "140499   3030.792563   3014.327809   3030.360970   3029.193646      9.287968   \n",
       "140500   8134.104047   8095.270339   8137.253098   8138.172249   8513.395846   \n",
       "140501   2248.744202   2219.038318   2249.114959   2248.855038   2835.381297   \n",
       "140502     62.882548      0.684523     63.037636     63.396557      3.529220   \n",
       "140503   3637.604950   3638.035640   3637.217268   3637.814337   3680.947565   \n",
       "140504   2608.652793   2619.332885   2608.314363   2612.416527   2427.728760   \n",
       "140505   2458.524241   2431.162306   2459.398324   2460.172162   2377.565603   \n",
       "140506   9288.776635   9167.175514   9300.162480   9291.006884  10515.548866   \n",
       "140507   1632.764763   1658.031372   1632.955731   1631.700738   1441.395697   \n",
       "140508   2852.433379   2835.310933   2851.685060   2849.643327   3473.230272   \n",
       "140509   3999.763958   4100.033838   3998.192492   4003.312738   3329.939042   \n",
       "\n",
       "                 xgb        GBoost       LightGB           dnn  \n",
       "0        3013.420898   3291.751855   3345.705651   3293.606689  \n",
       "1        1445.992188   1276.302068   1825.247833   1718.731934  \n",
       "2        2204.367432   2472.510028   3090.618737   2946.410645  \n",
       "3        5837.438965   6476.006553   6107.234159   6145.209961  \n",
       "4        2792.700439   2701.583471   3210.162757   3083.473877  \n",
       "5        8821.465820   9212.564068   9567.385732   9676.754883  \n",
       "6       22321.062500  22993.179765  21884.805256  21438.007812  \n",
       "7          62.028328     76.871529     -1.805535    228.807144  \n",
       "8        3696.382812   4197.509385   4060.611661   3915.303955  \n",
       "9        7860.289551   8769.201570   9040.246590   9122.162109  \n",
       "10       1520.870850   1631.647754   1652.429914   1590.300781  \n",
       "11       7069.304688   7569.875213   8047.768727   7192.914062  \n",
       "12         33.885262    -15.346740      1.708321     97.691414  \n",
       "13       1236.270508   1307.326481   1308.683167   1222.563232  \n",
       "14      35567.183594  33508.808744  36660.214729  33379.187500  \n",
       "15       4892.751953   4786.610147   5636.353604   5721.780273  \n",
       "16       9678.168945   9273.666412  10191.442742  10407.495117  \n",
       "17       1931.033691   1973.054997   2615.451860   1880.921143  \n",
       "18       2847.324707   3065.163372   3113.275493   3016.729980  \n",
       "19       2036.100342   2077.665299   2218.125563   2189.098145  \n",
       "20       4681.732910   4462.611516   5098.452511   5033.321777  \n",
       "21       4013.025635   3866.945426   5114.714109   5359.573730  \n",
       "22       2903.073242   2825.380629   3200.240972   3171.068604  \n",
       "23       6673.602539   6799.431240   7275.171534   7291.336914  \n",
       "24        405.876465    364.942457    220.189278     30.573740  \n",
       "25        -85.014153    -76.439957     -4.029012    187.528336  \n",
       "26       1316.195068   1255.833649   1403.155028   1376.424316  \n",
       "27        635.153809    464.463179    179.631535     69.490242  \n",
       "28        307.509277    314.068295    223.260621     12.213388  \n",
       "29       3055.601562   3082.187832   3592.984251   3451.736816  \n",
       "...              ...           ...           ...           ...  \n",
       "140480    116.021492     89.047040     90.426273    211.347672  \n",
       "140481   4739.549316   4719.947459   5049.093501   4879.020508  \n",
       "140482   1506.156494   1497.751623   1982.279435   1980.568604  \n",
       "140483   5360.305664   5743.151885   6109.431660   6603.919922  \n",
       "140484   1645.317383   1693.457932   1767.711390   1750.469238  \n",
       "140485  14981.772461  15624.095342  16963.559610  15429.802734  \n",
       "140486  12675.193359  16081.659934  18160.625920  18737.490234  \n",
       "140487    386.491211    381.745286    222.115487     93.529793  \n",
       "140488   3810.669434   3789.592604   4030.703098   4016.583496  \n",
       "140489   1840.237061   1930.826161   2854.441901   2567.845703  \n",
       "140490   2535.262451   2707.088804   3154.286148   3055.071533  \n",
       "140491    127.922859    227.164478     -3.781157    255.704117  \n",
       "140492   2212.740967   2539.161909   2342.793815   2302.782227  \n",
       "140493   1822.262451   1947.583014   2941.247579   2804.333252  \n",
       "140494  42162.921875  39912.539017  43486.717876  37611.480469  \n",
       "140495   2145.597412   2022.169817   2860.614353   2789.272461  \n",
       "140496   6153.907227   5266.817103   5584.949377   5705.166992  \n",
       "140497   1911.791504   2181.145838   2374.554151   2341.692383  \n",
       "140498   3251.505859   3519.557714   3375.202477   3440.205322  \n",
       "140499   -144.200180     30.369846    -39.676951    228.104019  \n",
       "140500   8464.269531   8989.785647   8669.562030   8999.925781  \n",
       "140501   2827.896240   2545.401361   3179.078740   3190.493896  \n",
       "140502    -74.228996    -22.888111     -0.427322     24.143076  \n",
       "140503   3514.168457   3462.474508   4198.409770   4199.815918  \n",
       "140504   2443.229980   2477.907149   2833.123511   2806.720215  \n",
       "140505   2475.369873   2463.407038   2727.958436   2663.536621  \n",
       "140506   8315.749023  10817.327069  10929.059248  12169.239258  \n",
       "140507   1532.712402   1496.650261   1703.280261   1589.447266  \n",
       "140508   3242.280273   3192.104284   3754.625996   3796.122314  \n",
       "140509   3829.955566   3653.240218   3858.690949   3809.457031  \n",
       "\n",
       "[140510 rows x 9 columns]"
      ]
     },
     "execution_count": 203,
     "metadata": {},
     "output_type": "execute_result"
    }
   ],
   "source": [
    "test_ensem_df"
   ]
  },
  {
   "cell_type": "code",
   "execution_count": null,
   "metadata": {
    "scrolled": false
   },
   "outputs": [],
   "source": [
    "xgb_reg = xgb.XGBRegressor()"
   ]
  },
  {
   "cell_type": "code",
   "execution_count": null,
   "metadata": {
    "scrolled": false
   },
   "outputs": [],
   "source": [
    "xgb_reg.fit(ensemble_df, ss_y.inverse_transform(y_ensem))"
   ]
  },
  {
   "cell_type": "code",
   "execution_count": null,
   "metadata": {
    "scrolled": false
   },
   "outputs": [],
   "source": [
    "y_xgb_ensemble = xgb_reg.predict(test_ensem_df)"
   ]
  },
  {
   "cell_type": "code",
   "execution_count": null,
   "metadata": {
    "scrolled": false
   },
   "outputs": [],
   "source": [
    "y_xgb_ensemble"
   ]
  },
  {
   "cell_type": "markdown",
   "metadata": {},
   "source": [
    "# super ensemble"
   ]
  },
  {
   "cell_type": "code",
   "execution_count": null,
   "metadata": {
    "scrolled": false
   },
   "outputs": [],
   "source": [
    "m_1603 = pd.read_csv('../result_csv/16/nn_810_1603.csv', encoding='utf-8')\n",
    "m_1604 = pd.read_csv('../result_csv/16/nn_810_1604.csv', encoding='utf-8')\n",
    "m_1611 = pd.read_csv('../result_csv/16/nn_0809_1611.csv', encoding='utf-8')\n",
    "m_1625 = pd.read_csv('../result_csv/16/nn_imp_813_1625.csv', encoding='utf-8')\n",
    "m_1644 = pd.read_csv('../result_csv/16/y_pred_nn_0808_1644.csv', encoding='utf-8')\n",
    "m_1653 = pd.read_csv('../result_csv/16/two_813_1653.csv', encoding='utf-8')\n",
    "m_1670 = pd.read_csv('../result_csv/16/nn_new_814_1670.csv', encoding='utf-8')\n",
    "m_1688 = pd.read_csv('../result_csv/16/best_y_pred_nn_0807_1688.csv', encoding='utf-8')\n",
    "m_1695 = pd.read_csv('../result_csv/16/nn_815_1695.csv', encoding='utf-8')"
   ]
  },
  {
   "cell_type": "code",
   "execution_count": null,
   "metadata": {
    "scrolled": false
   },
   "outputs": [],
   "source": [
    "model_16 = pd.DataFrame({1603:m_1603.Next_Premium, 1604:m_1604.Next_Premium, 1611:m_1611.Next_Premium, 1625:m_1625.Next_Premium,\n",
    "                        1644:m_1644.Next_Premium, 1653:m_1653.Next_Premium, 1670:m_1670.Next_Premium, 1688:m_1688.Next_Premium,\n",
    "                        1695:m_1695.Next_Premium})"
   ]
  },
  {
   "cell_type": "code",
   "execution_count": null,
   "metadata": {
    "scrolled": false
   },
   "outputs": [],
   "source": [
    "model_16['weight'] = model_16[1603] * 0.2 + model_16[1604] * 0.18 + model_16[1611] * 0.17 + model_16[1625] * 0.13 + model_16[1644] * 0.11 + model_16[1653] * 0.09 + model_16[1670] * 0.06 + model_16[1688] * 0.04 + model_16[1695] * 0.02"
   ]
  },
  {
   "cell_type": "code",
   "execution_count": null,
   "metadata": {
    "scrolled": false
   },
   "outputs": [],
   "source": [
    "model_16"
   ]
  },
  {
   "cell_type": "code",
   "execution_count": 204,
   "metadata": {
    "scrolled": false
   },
   "outputs": [],
   "source": [
    "#result to csv\n",
    "submit = testingset_df.copy()\n",
    "submit['Next_Premium'] = test_ensem_df.LightGB\n",
    "submit.iloc[submit[submit['Next_Premium'] < 0].index, 1] = 0\n",
    "submit.to_csv('../result_csv/lgb_78_0906.csv', sep=',', index=None)"
   ]
  },
  {
   "cell_type": "code",
   "execution_count": 65,
   "metadata": {
    "scrolled": false
   },
   "outputs": [],
   "source": [
    "#result to csv\n",
    "submit = testingset_df.copy()\n",
    "submit['Next_Premium'] = y_LightGB\n",
    "submit.iloc[submit[submit['Next_Premium'] < 0].index, 1] = 0\n",
    "submit.to_csv('../result_csv/lgb_boxcoxfory_913.csv', sep=',', index=None)"
   ]
  },
  {
   "cell_type": "code",
   "execution_count": 53,
   "metadata": {},
   "outputs": [],
   "source": [
    "y_LightGB = y_LightGB.astype(int)"
   ]
  },
  {
   "cell_type": "code",
   "execution_count": 63,
   "metadata": {},
   "outputs": [],
   "source": [
    "y_LightGB[136363] = 0"
   ]
  },
  {
   "cell_type": "code",
   "execution_count": 64,
   "metadata": {},
   "outputs": [
    {
     "data": {
      "text/plain": [
       "0"
      ]
     },
     "execution_count": 64,
     "metadata": {},
     "output_type": "execute_result"
    }
   ],
   "source": [
    "y_LightGB.min()"
   ]
  },
  {
   "cell_type": "code",
   "execution_count": null,
   "metadata": {},
   "outputs": [],
   "source": []
  }
 ],
 "metadata": {
  "kernelspec": {
   "display_name": "Python 3",
   "language": "python",
   "name": "python3"
  },
  "language_info": {
   "codemirror_mode": {
    "name": "ipython",
    "version": 3
   },
   "file_extension": ".py",
   "mimetype": "text/x-python",
   "name": "python",
   "nbconvert_exporter": "python",
   "pygments_lexer": "ipython3",
   "version": "3.6.5"
  }
 },
 "nbformat": 4,
 "nbformat_minor": 2
}
